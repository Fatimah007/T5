{
  "cells": [
    {
      "cell_type": "markdown",
      "metadata": {
        "id": "view-in-github",
        "colab_type": "text"
      },
      "source": [
        "<a href=\"https://colab.research.google.com/github/Fatimah007/T5/blob/main/Copy_of_Clustering_Task.ipynb\" target=\"_parent\"><img src=\"https://colab.research.google.com/assets/colab-badge.svg\" alt=\"Open In Colab\"/></a>"
      ]
    },
    {
      "cell_type": "markdown",
      "id": "f0946ef5",
      "metadata": {
        "id": "f0946ef5"
      },
      "source": [
        "# Clustering and Dimensionality Reduction Exam\n",
        "Welcome to the weekly project on clustering and dimensionality reduction. You will be working with a dataset of traffic accidents.\n",
        "\n",
        "## Dataset\n",
        "The dataset that will be used in this task is `Traffic_Accidents.csv`\n",
        "\n",
        "## Instructions\n",
        "- Follow the steps outlined below.\n",
        "- Write your code in the empty code cells.\n",
        "- Comment on your code to explain your reasoning.\n",
        "\n",
        "## Dataset Overview\n",
        "The dataset contains information about traffic accidents, including location, weather conditions, road conditions, and more. Below are sample of these columns:\n",
        "\n",
        "* `Location_Easting_OSGR`: Easting coordinate of the accident location.\n",
        "* `Location_Northing_OSGR`: Northing coordinate of the accident location.\n",
        "* `Longitude`: Longitude of the accident site.\n",
        "* `Latitude`: Latitude of the accident site.\n",
        "* `Police_Force`: Identifier for the police force involved.\n",
        "* `Accident_Severity`: Severity of the accident.\n",
        "* `Number_of_Vehicles`: Number of vehicles involved in the accident.\n",
        "* `Number_of_Casualties`: Number of casualties in the accident.\n",
        "* `Date`: Date of the accident.\n",
        "* `Day_of_Week`: Day of the week when the accident occurred.\n",
        "* `Speed_limit`: Speed limit in the area where the accident occurred.\n",
        "* `Weather_Conditions`: Weather conditions at the time of the accident.\n",
        "* `Road_Surface_Conditions`: Condition of the road surface during the accident.\n",
        "* `Urban_or_Rural_Area`: Whether the accident occurred in an urban or rural area.\n",
        "* `Year`: Year when the accident was recorded.\n",
        "* Additional attributes related to road type, pedestrian crossing, light conditions, etc.\n",
        "\n",
        "## Goal\n",
        "The primary goal is to analyze the accidents based on their geographical location.\n"
      ]
    },
    {
      "cell_type": "markdown",
      "id": "e2d10a84",
      "metadata": {
        "id": "e2d10a84"
      },
      "source": [
        "## Import Libraries"
      ]
    },
    {
      "cell_type": "code",
      "execution_count": 12,
      "id": "9ee4bcdb",
      "metadata": {
        "id": "9ee4bcdb"
      },
      "outputs": [],
      "source": [
        "import pandas as pd\n",
        "import numpy as np\n",
        "import seaborn as sns\n",
        "import matplotlib.pyplot as plt\n",
        "import matplotlib.cm as cm\n",
        "from sklearn.cluster import KMeans\n",
        "import matplotlib as mpl\n",
        "from sklearn.model_selection import train_test_split\n",
        "from sklearn.preprocessing import StandardScaler\n",
        "from sklearn.decomposition import PCA as sklearnPCA"
      ]
    },
    {
      "cell_type": "markdown",
      "id": "8a257dea",
      "metadata": {
        "id": "8a257dea"
      },
      "source": [
        "## Load the Data"
      ]
    },
    {
      "cell_type": "code",
      "execution_count": 5,
      "id": "2832846e",
      "metadata": {
        "id": "2832846e"
      },
      "outputs": [],
      "source": [
        "X = pd.read_csv('/content/Traffic_Accidents.csv')"
      ]
    },
    {
      "cell_type": "markdown",
      "id": "4106d3c7",
      "metadata": {
        "id": "4106d3c7"
      },
      "source": [
        "## Exploratory Data Analysis (EDA)\n",
        "Perform EDA to understand the data better. This involves several steps to summarize the main characteristics, uncover patterns, and establish relationships:\n",
        "* Find the dataset information and observe the datatypes.\n",
        "* Check the shape of the data to understand its structure.\n",
        "* View the the data with various functions to get an initial sense of the data.\n",
        "* Perform summary statistics on the dataset to grasp central tendencies and variability.\n",
        "* Check for duplicated data.\n",
        "* Check for null values.\n",
        "\n",
        "And apply more if needed!\n"
      ]
    },
    {
      "cell_type": "code",
      "source": [
        "X.head()"
      ],
      "metadata": {
        "collapsed": true,
        "id": "rkfIiP7a5EYp",
        "outputId": "6346a876-024b-4413-a07d-7a37b22ff39a",
        "colab": {
          "base_uri": "https://localhost:8080/",
          "height": 360
        }
      },
      "id": "rkfIiP7a5EYp",
      "execution_count": 5,
      "outputs": [
        {
          "output_type": "execute_result",
          "data": {
            "text/plain": [
              "   Location_Easting_OSGR  Location_Northing_OSGR  Longitude   Latitude  \\\n",
              "0               560530.0                103950.0   0.277298  50.812789   \n",
              "1               508860.0                187170.0  -0.430574  51.572846   \n",
              "2               314460.0                169130.0  -3.231459  51.414661   \n",
              "3               341700.0                408330.0  -2.881800  53.568318   \n",
              "4               386488.0                350090.0  -2.203020  53.047882   \n",
              "\n",
              "   Police_Force  Accident_Severity  Number_of_Vehicles  Number_of_Casualties  \\\n",
              "0            47                3.0                   1                   1.0   \n",
              "1             1                3.0                   2                   1.0   \n",
              "2            62                3.0                   2                   1.0   \n",
              "3             4                3.0                   1                   2.0   \n",
              "4            21                3.0                   2                   2.0   \n",
              "\n",
              "         Date  Day_of_Week  ...  2nd_Road_Class 2nd_Road_Number  \\\n",
              "0  27/11/2009            6  ...              -1               0   \n",
              "1  10/10/2010            1  ...               6               0   \n",
              "2  14/09/2005            4  ...               3            4055   \n",
              "3  18/08/2007            7  ...               6               0   \n",
              "4  06/08/2013            3  ...              -1               0   \n",
              "\n",
              "   Pedestrian_Crossing-Human_Control  Pedestrian_Crossing-Physical_Facilities  \\\n",
              "0              None within 50 metres    No physical crossing within 50 meters   \n",
              "1              None within 50 metres    No physical crossing within 50 meters   \n",
              "2              None within 50 metres    No physical crossing within 50 meters   \n",
              "3              None within 50 metres    No physical crossing within 50 meters   \n",
              "4              None within 50 metres    No physical crossing within 50 meters   \n",
              "\n",
              "                          Light_Conditions          Weather_Conditions  \\\n",
              "0            Darkeness: No street lighting     Raining with high winds   \n",
              "1  Darkness: Street lights present and lit     Fine without high winds   \n",
              "2           Daylight: Street light present     Fine without high winds   \n",
              "3           Daylight: Street light present  Raining without high winds   \n",
              "4           Daylight: Street light present     Fine without high winds   \n",
              "\n",
              "     Road_Surface_Conditions  Urban_or_Rural_Area  \\\n",
              "0  Flood (Over 3cm of water)                  2.0   \n",
              "1                        Dry                  1.0   \n",
              "2                        Dry                  1.0   \n",
              "3                   Wet/Damp                  1.0   \n",
              "4                        Dry                  1.0   \n",
              "\n",
              "  Did_Police_Officer_Attend_Scene_of_Accident  Year  \n",
              "0                                         Yes  2009  \n",
              "1                                         Yes  2010  \n",
              "2                                         Yes  2005  \n",
              "3                                         Yes  2007  \n",
              "4                                         Yes  2013  \n",
              "\n",
              "[5 rows x 26 columns]"
            ],
            "text/html": [
              "\n",
              "  <div id=\"df-0e1cc832-724d-48b4-b60f-2bc812e872b9\" class=\"colab-df-container\">\n",
              "    <div>\n",
              "<style scoped>\n",
              "    .dataframe tbody tr th:only-of-type {\n",
              "        vertical-align: middle;\n",
              "    }\n",
              "\n",
              "    .dataframe tbody tr th {\n",
              "        vertical-align: top;\n",
              "    }\n",
              "\n",
              "    .dataframe thead th {\n",
              "        text-align: right;\n",
              "    }\n",
              "</style>\n",
              "<table border=\"1\" class=\"dataframe\">\n",
              "  <thead>\n",
              "    <tr style=\"text-align: right;\">\n",
              "      <th></th>\n",
              "      <th>Location_Easting_OSGR</th>\n",
              "      <th>Location_Northing_OSGR</th>\n",
              "      <th>Longitude</th>\n",
              "      <th>Latitude</th>\n",
              "      <th>Police_Force</th>\n",
              "      <th>Accident_Severity</th>\n",
              "      <th>Number_of_Vehicles</th>\n",
              "      <th>Number_of_Casualties</th>\n",
              "      <th>Date</th>\n",
              "      <th>Day_of_Week</th>\n",
              "      <th>...</th>\n",
              "      <th>2nd_Road_Class</th>\n",
              "      <th>2nd_Road_Number</th>\n",
              "      <th>Pedestrian_Crossing-Human_Control</th>\n",
              "      <th>Pedestrian_Crossing-Physical_Facilities</th>\n",
              "      <th>Light_Conditions</th>\n",
              "      <th>Weather_Conditions</th>\n",
              "      <th>Road_Surface_Conditions</th>\n",
              "      <th>Urban_or_Rural_Area</th>\n",
              "      <th>Did_Police_Officer_Attend_Scene_of_Accident</th>\n",
              "      <th>Year</th>\n",
              "    </tr>\n",
              "  </thead>\n",
              "  <tbody>\n",
              "    <tr>\n",
              "      <th>0</th>\n",
              "      <td>560530.0</td>\n",
              "      <td>103950.0</td>\n",
              "      <td>0.277298</td>\n",
              "      <td>50.812789</td>\n",
              "      <td>47</td>\n",
              "      <td>3.0</td>\n",
              "      <td>1</td>\n",
              "      <td>1.0</td>\n",
              "      <td>27/11/2009</td>\n",
              "      <td>6</td>\n",
              "      <td>...</td>\n",
              "      <td>-1</td>\n",
              "      <td>0</td>\n",
              "      <td>None within 50 metres</td>\n",
              "      <td>No physical crossing within 50 meters</td>\n",
              "      <td>Darkeness: No street lighting</td>\n",
              "      <td>Raining with high winds</td>\n",
              "      <td>Flood (Over 3cm of water)</td>\n",
              "      <td>2.0</td>\n",
              "      <td>Yes</td>\n",
              "      <td>2009</td>\n",
              "    </tr>\n",
              "    <tr>\n",
              "      <th>1</th>\n",
              "      <td>508860.0</td>\n",
              "      <td>187170.0</td>\n",
              "      <td>-0.430574</td>\n",
              "      <td>51.572846</td>\n",
              "      <td>1</td>\n",
              "      <td>3.0</td>\n",
              "      <td>2</td>\n",
              "      <td>1.0</td>\n",
              "      <td>10/10/2010</td>\n",
              "      <td>1</td>\n",
              "      <td>...</td>\n",
              "      <td>6</td>\n",
              "      <td>0</td>\n",
              "      <td>None within 50 metres</td>\n",
              "      <td>No physical crossing within 50 meters</td>\n",
              "      <td>Darkness: Street lights present and lit</td>\n",
              "      <td>Fine without high winds</td>\n",
              "      <td>Dry</td>\n",
              "      <td>1.0</td>\n",
              "      <td>Yes</td>\n",
              "      <td>2010</td>\n",
              "    </tr>\n",
              "    <tr>\n",
              "      <th>2</th>\n",
              "      <td>314460.0</td>\n",
              "      <td>169130.0</td>\n",
              "      <td>-3.231459</td>\n",
              "      <td>51.414661</td>\n",
              "      <td>62</td>\n",
              "      <td>3.0</td>\n",
              "      <td>2</td>\n",
              "      <td>1.0</td>\n",
              "      <td>14/09/2005</td>\n",
              "      <td>4</td>\n",
              "      <td>...</td>\n",
              "      <td>3</td>\n",
              "      <td>4055</td>\n",
              "      <td>None within 50 metres</td>\n",
              "      <td>No physical crossing within 50 meters</td>\n",
              "      <td>Daylight: Street light present</td>\n",
              "      <td>Fine without high winds</td>\n",
              "      <td>Dry</td>\n",
              "      <td>1.0</td>\n",
              "      <td>Yes</td>\n",
              "      <td>2005</td>\n",
              "    </tr>\n",
              "    <tr>\n",
              "      <th>3</th>\n",
              "      <td>341700.0</td>\n",
              "      <td>408330.0</td>\n",
              "      <td>-2.881800</td>\n",
              "      <td>53.568318</td>\n",
              "      <td>4</td>\n",
              "      <td>3.0</td>\n",
              "      <td>1</td>\n",
              "      <td>2.0</td>\n",
              "      <td>18/08/2007</td>\n",
              "      <td>7</td>\n",
              "      <td>...</td>\n",
              "      <td>6</td>\n",
              "      <td>0</td>\n",
              "      <td>None within 50 metres</td>\n",
              "      <td>No physical crossing within 50 meters</td>\n",
              "      <td>Daylight: Street light present</td>\n",
              "      <td>Raining without high winds</td>\n",
              "      <td>Wet/Damp</td>\n",
              "      <td>1.0</td>\n",
              "      <td>Yes</td>\n",
              "      <td>2007</td>\n",
              "    </tr>\n",
              "    <tr>\n",
              "      <th>4</th>\n",
              "      <td>386488.0</td>\n",
              "      <td>350090.0</td>\n",
              "      <td>-2.203020</td>\n",
              "      <td>53.047882</td>\n",
              "      <td>21</td>\n",
              "      <td>3.0</td>\n",
              "      <td>2</td>\n",
              "      <td>2.0</td>\n",
              "      <td>06/08/2013</td>\n",
              "      <td>3</td>\n",
              "      <td>...</td>\n",
              "      <td>-1</td>\n",
              "      <td>0</td>\n",
              "      <td>None within 50 metres</td>\n",
              "      <td>No physical crossing within 50 meters</td>\n",
              "      <td>Daylight: Street light present</td>\n",
              "      <td>Fine without high winds</td>\n",
              "      <td>Dry</td>\n",
              "      <td>1.0</td>\n",
              "      <td>Yes</td>\n",
              "      <td>2013</td>\n",
              "    </tr>\n",
              "  </tbody>\n",
              "</table>\n",
              "<p>5 rows × 26 columns</p>\n",
              "</div>\n",
              "    <div class=\"colab-df-buttons\">\n",
              "\n",
              "  <div class=\"colab-df-container\">\n",
              "    <button class=\"colab-df-convert\" onclick=\"convertToInteractive('df-0e1cc832-724d-48b4-b60f-2bc812e872b9')\"\n",
              "            title=\"Convert this dataframe to an interactive table.\"\n",
              "            style=\"display:none;\">\n",
              "\n",
              "  <svg xmlns=\"http://www.w3.org/2000/svg\" height=\"24px\" viewBox=\"0 -960 960 960\">\n",
              "    <path d=\"M120-120v-720h720v720H120Zm60-500h600v-160H180v160Zm220 220h160v-160H400v160Zm0 220h160v-160H400v160ZM180-400h160v-160H180v160Zm440 0h160v-160H620v160ZM180-180h160v-160H180v160Zm440 0h160v-160H620v160Z\"/>\n",
              "  </svg>\n",
              "    </button>\n",
              "\n",
              "  <style>\n",
              "    .colab-df-container {\n",
              "      display:flex;\n",
              "      gap: 12px;\n",
              "    }\n",
              "\n",
              "    .colab-df-convert {\n",
              "      background-color: #E8F0FE;\n",
              "      border: none;\n",
              "      border-radius: 50%;\n",
              "      cursor: pointer;\n",
              "      display: none;\n",
              "      fill: #1967D2;\n",
              "      height: 32px;\n",
              "      padding: 0 0 0 0;\n",
              "      width: 32px;\n",
              "    }\n",
              "\n",
              "    .colab-df-convert:hover {\n",
              "      background-color: #E2EBFA;\n",
              "      box-shadow: 0px 1px 2px rgba(60, 64, 67, 0.3), 0px 1px 3px 1px rgba(60, 64, 67, 0.15);\n",
              "      fill: #174EA6;\n",
              "    }\n",
              "\n",
              "    .colab-df-buttons div {\n",
              "      margin-bottom: 4px;\n",
              "    }\n",
              "\n",
              "    [theme=dark] .colab-df-convert {\n",
              "      background-color: #3B4455;\n",
              "      fill: #D2E3FC;\n",
              "    }\n",
              "\n",
              "    [theme=dark] .colab-df-convert:hover {\n",
              "      background-color: #434B5C;\n",
              "      box-shadow: 0px 1px 3px 1px rgba(0, 0, 0, 0.15);\n",
              "      filter: drop-shadow(0px 1px 2px rgba(0, 0, 0, 0.3));\n",
              "      fill: #FFFFFF;\n",
              "    }\n",
              "  </style>\n",
              "\n",
              "    <script>\n",
              "      const buttonEl =\n",
              "        document.querySelector('#df-0e1cc832-724d-48b4-b60f-2bc812e872b9 button.colab-df-convert');\n",
              "      buttonEl.style.display =\n",
              "        google.colab.kernel.accessAllowed ? 'block' : 'none';\n",
              "\n",
              "      async function convertToInteractive(key) {\n",
              "        const element = document.querySelector('#df-0e1cc832-724d-48b4-b60f-2bc812e872b9');\n",
              "        const dataTable =\n",
              "          await google.colab.kernel.invokeFunction('convertToInteractive',\n",
              "                                                    [key], {});\n",
              "        if (!dataTable) return;\n",
              "\n",
              "        const docLinkHtml = 'Like what you see? Visit the ' +\n",
              "          '<a target=\"_blank\" href=https://colab.research.google.com/notebooks/data_table.ipynb>data table notebook</a>'\n",
              "          + ' to learn more about interactive tables.';\n",
              "        element.innerHTML = '';\n",
              "        dataTable['output_type'] = 'display_data';\n",
              "        await google.colab.output.renderOutput(dataTable, element);\n",
              "        const docLink = document.createElement('div');\n",
              "        docLink.innerHTML = docLinkHtml;\n",
              "        element.appendChild(docLink);\n",
              "      }\n",
              "    </script>\n",
              "  </div>\n",
              "\n",
              "\n",
              "<div id=\"df-3ceecff8-3e6d-4815-b797-8ee9b29e22ef\">\n",
              "  <button class=\"colab-df-quickchart\" onclick=\"quickchart('df-3ceecff8-3e6d-4815-b797-8ee9b29e22ef')\"\n",
              "            title=\"Suggest charts\"\n",
              "            style=\"display:none;\">\n",
              "\n",
              "<svg xmlns=\"http://www.w3.org/2000/svg\" height=\"24px\"viewBox=\"0 0 24 24\"\n",
              "     width=\"24px\">\n",
              "    <g>\n",
              "        <path d=\"M19 3H5c-1.1 0-2 .9-2 2v14c0 1.1.9 2 2 2h14c1.1 0 2-.9 2-2V5c0-1.1-.9-2-2-2zM9 17H7v-7h2v7zm4 0h-2V7h2v10zm4 0h-2v-4h2v4z\"/>\n",
              "    </g>\n",
              "</svg>\n",
              "  </button>\n",
              "\n",
              "<style>\n",
              "  .colab-df-quickchart {\n",
              "      --bg-color: #E8F0FE;\n",
              "      --fill-color: #1967D2;\n",
              "      --hover-bg-color: #E2EBFA;\n",
              "      --hover-fill-color: #174EA6;\n",
              "      --disabled-fill-color: #AAA;\n",
              "      --disabled-bg-color: #DDD;\n",
              "  }\n",
              "\n",
              "  [theme=dark] .colab-df-quickchart {\n",
              "      --bg-color: #3B4455;\n",
              "      --fill-color: #D2E3FC;\n",
              "      --hover-bg-color: #434B5C;\n",
              "      --hover-fill-color: #FFFFFF;\n",
              "      --disabled-bg-color: #3B4455;\n",
              "      --disabled-fill-color: #666;\n",
              "  }\n",
              "\n",
              "  .colab-df-quickchart {\n",
              "    background-color: var(--bg-color);\n",
              "    border: none;\n",
              "    border-radius: 50%;\n",
              "    cursor: pointer;\n",
              "    display: none;\n",
              "    fill: var(--fill-color);\n",
              "    height: 32px;\n",
              "    padding: 0;\n",
              "    width: 32px;\n",
              "  }\n",
              "\n",
              "  .colab-df-quickchart:hover {\n",
              "    background-color: var(--hover-bg-color);\n",
              "    box-shadow: 0 1px 2px rgba(60, 64, 67, 0.3), 0 1px 3px 1px rgba(60, 64, 67, 0.15);\n",
              "    fill: var(--button-hover-fill-color);\n",
              "  }\n",
              "\n",
              "  .colab-df-quickchart-complete:disabled,\n",
              "  .colab-df-quickchart-complete:disabled:hover {\n",
              "    background-color: var(--disabled-bg-color);\n",
              "    fill: var(--disabled-fill-color);\n",
              "    box-shadow: none;\n",
              "  }\n",
              "\n",
              "  .colab-df-spinner {\n",
              "    border: 2px solid var(--fill-color);\n",
              "    border-color: transparent;\n",
              "    border-bottom-color: var(--fill-color);\n",
              "    animation:\n",
              "      spin 1s steps(1) infinite;\n",
              "  }\n",
              "\n",
              "  @keyframes spin {\n",
              "    0% {\n",
              "      border-color: transparent;\n",
              "      border-bottom-color: var(--fill-color);\n",
              "      border-left-color: var(--fill-color);\n",
              "    }\n",
              "    20% {\n",
              "      border-color: transparent;\n",
              "      border-left-color: var(--fill-color);\n",
              "      border-top-color: var(--fill-color);\n",
              "    }\n",
              "    30% {\n",
              "      border-color: transparent;\n",
              "      border-left-color: var(--fill-color);\n",
              "      border-top-color: var(--fill-color);\n",
              "      border-right-color: var(--fill-color);\n",
              "    }\n",
              "    40% {\n",
              "      border-color: transparent;\n",
              "      border-right-color: var(--fill-color);\n",
              "      border-top-color: var(--fill-color);\n",
              "    }\n",
              "    60% {\n",
              "      border-color: transparent;\n",
              "      border-right-color: var(--fill-color);\n",
              "    }\n",
              "    80% {\n",
              "      border-color: transparent;\n",
              "      border-right-color: var(--fill-color);\n",
              "      border-bottom-color: var(--fill-color);\n",
              "    }\n",
              "    90% {\n",
              "      border-color: transparent;\n",
              "      border-bottom-color: var(--fill-color);\n",
              "    }\n",
              "  }\n",
              "</style>\n",
              "\n",
              "  <script>\n",
              "    async function quickchart(key) {\n",
              "      const quickchartButtonEl =\n",
              "        document.querySelector('#' + key + ' button');\n",
              "      quickchartButtonEl.disabled = true;  // To prevent multiple clicks.\n",
              "      quickchartButtonEl.classList.add('colab-df-spinner');\n",
              "      try {\n",
              "        const charts = await google.colab.kernel.invokeFunction(\n",
              "            'suggestCharts', [key], {});\n",
              "      } catch (error) {\n",
              "        console.error('Error during call to suggestCharts:', error);\n",
              "      }\n",
              "      quickchartButtonEl.classList.remove('colab-df-spinner');\n",
              "      quickchartButtonEl.classList.add('colab-df-quickchart-complete');\n",
              "    }\n",
              "    (() => {\n",
              "      let quickchartButtonEl =\n",
              "        document.querySelector('#df-3ceecff8-3e6d-4815-b797-8ee9b29e22ef button');\n",
              "      quickchartButtonEl.style.display =\n",
              "        google.colab.kernel.accessAllowed ? 'block' : 'none';\n",
              "    })();\n",
              "  </script>\n",
              "</div>\n",
              "\n",
              "    </div>\n",
              "  </div>\n"
            ],
            "application/vnd.google.colaboratory.intrinsic+json": {
              "type": "dataframe",
              "variable_name": "X"
            }
          },
          "metadata": {},
          "execution_count": 5
        }
      ]
    },
    {
      "cell_type": "code",
      "execution_count": 6,
      "id": "a49012c4",
      "metadata": {
        "collapsed": true,
        "id": "a49012c4",
        "outputId": "12fba16c-6ad8-4104-80fa-3b7347748ff0",
        "colab": {
          "base_uri": "https://localhost:8080/"
        }
      },
      "outputs": [
        {
          "output_type": "stream",
          "name": "stdout",
          "text": [
            "<class 'pandas.core.frame.DataFrame'>\n",
            "RangeIndex: 52000 entries, 0 to 51999\n",
            "Data columns (total 26 columns):\n",
            " #   Column                                       Non-Null Count  Dtype  \n",
            "---  ------                                       --------------  -----  \n",
            " 0   Location_Easting_OSGR                        52000 non-null  float64\n",
            " 1   Location_Northing_OSGR                       52000 non-null  float64\n",
            " 2   Longitude                                    52000 non-null  float64\n",
            " 3   Latitude                                     52000 non-null  float64\n",
            " 4   Police_Force                                 52000 non-null  int64  \n",
            " 5   Accident_Severity                            51678 non-null  float64\n",
            " 6   Number_of_Vehicles                           52000 non-null  int64  \n",
            " 7   Number_of_Casualties                         50959 non-null  float64\n",
            " 8   Date                                         52000 non-null  object \n",
            " 9   Day_of_Week                                  52000 non-null  int64  \n",
            " 10  Local_Authority_(District)                   52000 non-null  int64  \n",
            " 11  Local_Authority_(Highway)                    52000 non-null  object \n",
            " 12  1st_Road_Class                               52000 non-null  int64  \n",
            " 13  1st_Road_Number                              52000 non-null  int64  \n",
            " 14  Road_Type                                    52000 non-null  object \n",
            " 15  Speed_limit                                  52000 non-null  int64  \n",
            " 16  2nd_Road_Class                               52000 non-null  int64  \n",
            " 17  2nd_Road_Number                              52000 non-null  int64  \n",
            " 18  Pedestrian_Crossing-Human_Control            52000 non-null  object \n",
            " 19  Pedestrian_Crossing-Physical_Facilities      52000 non-null  object \n",
            " 20  Light_Conditions                             51456 non-null  object \n",
            " 21  Weather_Conditions                           52000 non-null  object \n",
            " 22  Road_Surface_Conditions                      52000 non-null  object \n",
            " 23  Urban_or_Rural_Area                          51912 non-null  float64\n",
            " 24  Did_Police_Officer_Attend_Scene_of_Accident  52000 non-null  object \n",
            " 25  Year                                         52000 non-null  int64  \n",
            "dtypes: float64(7), int64(10), object(9)\n",
            "memory usage: 10.3+ MB\n"
          ]
        }
      ],
      "source": [
        "X.info()"
      ]
    },
    {
      "cell_type": "code",
      "source": [
        "X.isnull().sum()"
      ],
      "metadata": {
        "collapsed": true,
        "id": "ezfl29e55Ast",
        "outputId": "ba0b8341-b608-4622-b44d-0bc202ae9306",
        "colab": {
          "base_uri": "https://localhost:8080/",
          "height": 899
        }
      },
      "id": "ezfl29e55Ast",
      "execution_count": 7,
      "outputs": [
        {
          "output_type": "execute_result",
          "data": {
            "text/plain": [
              "Location_Easting_OSGR                             0\n",
              "Location_Northing_OSGR                            0\n",
              "Longitude                                         0\n",
              "Latitude                                          0\n",
              "Police_Force                                      0\n",
              "Accident_Severity                               322\n",
              "Number_of_Vehicles                                0\n",
              "Number_of_Casualties                           1041\n",
              "Date                                              0\n",
              "Day_of_Week                                       0\n",
              "Local_Authority_(District)                        0\n",
              "Local_Authority_(Highway)                         0\n",
              "1st_Road_Class                                    0\n",
              "1st_Road_Number                                   0\n",
              "Road_Type                                         0\n",
              "Speed_limit                                       0\n",
              "2nd_Road_Class                                    0\n",
              "2nd_Road_Number                                   0\n",
              "Pedestrian_Crossing-Human_Control                 0\n",
              "Pedestrian_Crossing-Physical_Facilities           0\n",
              "Light_Conditions                                544\n",
              "Weather_Conditions                                0\n",
              "Road_Surface_Conditions                           0\n",
              "Urban_or_Rural_Area                              88\n",
              "Did_Police_Officer_Attend_Scene_of_Accident       0\n",
              "Year                                              0\n",
              "dtype: int64"
            ],
            "text/html": [
              "<div>\n",
              "<style scoped>\n",
              "    .dataframe tbody tr th:only-of-type {\n",
              "        vertical-align: middle;\n",
              "    }\n",
              "\n",
              "    .dataframe tbody tr th {\n",
              "        vertical-align: top;\n",
              "    }\n",
              "\n",
              "    .dataframe thead th {\n",
              "        text-align: right;\n",
              "    }\n",
              "</style>\n",
              "<table border=\"1\" class=\"dataframe\">\n",
              "  <thead>\n",
              "    <tr style=\"text-align: right;\">\n",
              "      <th></th>\n",
              "      <th>0</th>\n",
              "    </tr>\n",
              "  </thead>\n",
              "  <tbody>\n",
              "    <tr>\n",
              "      <th>Location_Easting_OSGR</th>\n",
              "      <td>0</td>\n",
              "    </tr>\n",
              "    <tr>\n",
              "      <th>Location_Northing_OSGR</th>\n",
              "      <td>0</td>\n",
              "    </tr>\n",
              "    <tr>\n",
              "      <th>Longitude</th>\n",
              "      <td>0</td>\n",
              "    </tr>\n",
              "    <tr>\n",
              "      <th>Latitude</th>\n",
              "      <td>0</td>\n",
              "    </tr>\n",
              "    <tr>\n",
              "      <th>Police_Force</th>\n",
              "      <td>0</td>\n",
              "    </tr>\n",
              "    <tr>\n",
              "      <th>Accident_Severity</th>\n",
              "      <td>322</td>\n",
              "    </tr>\n",
              "    <tr>\n",
              "      <th>Number_of_Vehicles</th>\n",
              "      <td>0</td>\n",
              "    </tr>\n",
              "    <tr>\n",
              "      <th>Number_of_Casualties</th>\n",
              "      <td>1041</td>\n",
              "    </tr>\n",
              "    <tr>\n",
              "      <th>Date</th>\n",
              "      <td>0</td>\n",
              "    </tr>\n",
              "    <tr>\n",
              "      <th>Day_of_Week</th>\n",
              "      <td>0</td>\n",
              "    </tr>\n",
              "    <tr>\n",
              "      <th>Local_Authority_(District)</th>\n",
              "      <td>0</td>\n",
              "    </tr>\n",
              "    <tr>\n",
              "      <th>Local_Authority_(Highway)</th>\n",
              "      <td>0</td>\n",
              "    </tr>\n",
              "    <tr>\n",
              "      <th>1st_Road_Class</th>\n",
              "      <td>0</td>\n",
              "    </tr>\n",
              "    <tr>\n",
              "      <th>1st_Road_Number</th>\n",
              "      <td>0</td>\n",
              "    </tr>\n",
              "    <tr>\n",
              "      <th>Road_Type</th>\n",
              "      <td>0</td>\n",
              "    </tr>\n",
              "    <tr>\n",
              "      <th>Speed_limit</th>\n",
              "      <td>0</td>\n",
              "    </tr>\n",
              "    <tr>\n",
              "      <th>2nd_Road_Class</th>\n",
              "      <td>0</td>\n",
              "    </tr>\n",
              "    <tr>\n",
              "      <th>2nd_Road_Number</th>\n",
              "      <td>0</td>\n",
              "    </tr>\n",
              "    <tr>\n",
              "      <th>Pedestrian_Crossing-Human_Control</th>\n",
              "      <td>0</td>\n",
              "    </tr>\n",
              "    <tr>\n",
              "      <th>Pedestrian_Crossing-Physical_Facilities</th>\n",
              "      <td>0</td>\n",
              "    </tr>\n",
              "    <tr>\n",
              "      <th>Light_Conditions</th>\n",
              "      <td>544</td>\n",
              "    </tr>\n",
              "    <tr>\n",
              "      <th>Weather_Conditions</th>\n",
              "      <td>0</td>\n",
              "    </tr>\n",
              "    <tr>\n",
              "      <th>Road_Surface_Conditions</th>\n",
              "      <td>0</td>\n",
              "    </tr>\n",
              "    <tr>\n",
              "      <th>Urban_or_Rural_Area</th>\n",
              "      <td>88</td>\n",
              "    </tr>\n",
              "    <tr>\n",
              "      <th>Did_Police_Officer_Attend_Scene_of_Accident</th>\n",
              "      <td>0</td>\n",
              "    </tr>\n",
              "    <tr>\n",
              "      <th>Year</th>\n",
              "      <td>0</td>\n",
              "    </tr>\n",
              "  </tbody>\n",
              "</table>\n",
              "</div><br><label><b>dtype:</b> int64</label>"
            ]
          },
          "metadata": {},
          "execution_count": 7
        }
      ]
    },
    {
      "cell_type": "code",
      "source": [
        "X.isnull().sum().sum()"
      ],
      "metadata": {
        "id": "UkjQYCbF5DsL",
        "outputId": "4c89ec02-8d29-4f63-b26c-22d753881050",
        "colab": {
          "base_uri": "https://localhost:8080/"
        }
      },
      "id": "UkjQYCbF5DsL",
      "execution_count": 9,
      "outputs": [
        {
          "output_type": "execute_result",
          "data": {
            "text/plain": [
              "1995"
            ]
          },
          "metadata": {},
          "execution_count": 9
        }
      ]
    },
    {
      "cell_type": "code",
      "source": [
        "X.describe()\n"
      ],
      "metadata": {
        "collapsed": true,
        "id": "2e0Ws_hY6gX9",
        "outputId": "30275161-491a-473e-fcd1-fd99f92901c8",
        "colab": {
          "base_uri": "https://localhost:8080/",
          "height": 320
        }
      },
      "id": "2e0Ws_hY6gX9",
      "execution_count": 10,
      "outputs": [
        {
          "output_type": "execute_result",
          "data": {
            "text/plain": [
              "       Location_Easting_OSGR  Location_Northing_OSGR     Longitude  \\\n",
              "count           52000.000000            5.200000e+04  52000.000000   \n",
              "mean           440284.256846            2.998617e+05     -1.427193   \n",
              "std             95109.751221            1.613624e+05      1.398249   \n",
              "min             98480.000000            1.903000e+04     -6.895268   \n",
              "25%            375540.000000            1.780100e+05     -2.366190   \n",
              "50%            440950.000000            2.671800e+05     -1.391202   \n",
              "75%            523500.000000            3.981492e+05     -0.214666   \n",
              "max            654960.000000            1.203900e+06      1.753632   \n",
              "\n",
              "           Latitude  Police_Force  Accident_Severity  Number_of_Vehicles  \\\n",
              "count  52000.000000  52000.000000       51678.000000        52000.000000   \n",
              "mean      52.586684     30.401712           2.837145            1.834327   \n",
              "std        1.453049     25.545581           0.402582            0.727856   \n",
              "min       50.026153      1.000000           1.000000            1.000000   \n",
              "25%       51.487676      7.000000           3.000000            1.000000   \n",
              "50%       52.295042     30.000000           3.000000            2.000000   \n",
              "75%       53.478016     46.000000           3.000000            2.000000   \n",
              "max       60.714774     98.000000           3.000000           34.000000   \n",
              "\n",
              "       Number_of_Casualties   Day_of_Week  Local_Authority_(District)  \\\n",
              "count          50959.000000  52000.000000                52000.000000   \n",
              "mean               1.354756      4.130712                  349.542558   \n",
              "std                0.855220      1.926217                  259.504721   \n",
              "min                1.000000      1.000000                    1.000000   \n",
              "25%                1.000000      2.000000                  112.000000   \n",
              "50%                1.000000      4.000000                  323.000000   \n",
              "75%                1.000000      6.000000                  530.000000   \n",
              "max               51.000000      7.000000                  941.000000   \n",
              "\n",
              "       1st_Road_Class  1st_Road_Number   Speed_limit  2nd_Road_Class  \\\n",
              "count    52000.000000     52000.000000  52000.000000    52000.000000   \n",
              "mean         4.080519       997.078077     39.148558        2.672673   \n",
              "std          1.428056      1806.405065     14.212826        3.205080   \n",
              "min          1.000000         0.000000     15.000000       -1.000000   \n",
              "25%          3.000000         0.000000     30.000000       -1.000000   \n",
              "50%          4.000000       128.500000     30.000000        3.000000   \n",
              "75%          6.000000       716.000000     50.000000        6.000000   \n",
              "max          6.000000      9999.000000     70.000000        6.000000   \n",
              "\n",
              "       2nd_Road_Number  Urban_or_Rural_Area          Year  \n",
              "count     52000.000000         51912.000000  52000.000000  \n",
              "mean        384.503058             1.359397   2009.401788  \n",
              "std        1304.989395             0.479868      3.006997  \n",
              "min          -1.000000             1.000000   2005.000000  \n",
              "25%           0.000000             1.000000   2006.000000  \n",
              "50%           0.000000             1.000000   2010.000000  \n",
              "75%           0.000000             2.000000   2012.000000  \n",
              "max        9999.000000             3.000000   2014.000000  "
            ],
            "text/html": [
              "\n",
              "  <div id=\"df-58ea5d34-b353-4108-a43e-bd3db2cc8650\" class=\"colab-df-container\">\n",
              "    <div>\n",
              "<style scoped>\n",
              "    .dataframe tbody tr th:only-of-type {\n",
              "        vertical-align: middle;\n",
              "    }\n",
              "\n",
              "    .dataframe tbody tr th {\n",
              "        vertical-align: top;\n",
              "    }\n",
              "\n",
              "    .dataframe thead th {\n",
              "        text-align: right;\n",
              "    }\n",
              "</style>\n",
              "<table border=\"1\" class=\"dataframe\">\n",
              "  <thead>\n",
              "    <tr style=\"text-align: right;\">\n",
              "      <th></th>\n",
              "      <th>Location_Easting_OSGR</th>\n",
              "      <th>Location_Northing_OSGR</th>\n",
              "      <th>Longitude</th>\n",
              "      <th>Latitude</th>\n",
              "      <th>Police_Force</th>\n",
              "      <th>Accident_Severity</th>\n",
              "      <th>Number_of_Vehicles</th>\n",
              "      <th>Number_of_Casualties</th>\n",
              "      <th>Day_of_Week</th>\n",
              "      <th>Local_Authority_(District)</th>\n",
              "      <th>1st_Road_Class</th>\n",
              "      <th>1st_Road_Number</th>\n",
              "      <th>Speed_limit</th>\n",
              "      <th>2nd_Road_Class</th>\n",
              "      <th>2nd_Road_Number</th>\n",
              "      <th>Urban_or_Rural_Area</th>\n",
              "      <th>Year</th>\n",
              "    </tr>\n",
              "  </thead>\n",
              "  <tbody>\n",
              "    <tr>\n",
              "      <th>count</th>\n",
              "      <td>52000.000000</td>\n",
              "      <td>5.200000e+04</td>\n",
              "      <td>52000.000000</td>\n",
              "      <td>52000.000000</td>\n",
              "      <td>52000.000000</td>\n",
              "      <td>51678.000000</td>\n",
              "      <td>52000.000000</td>\n",
              "      <td>50959.000000</td>\n",
              "      <td>52000.000000</td>\n",
              "      <td>52000.000000</td>\n",
              "      <td>52000.000000</td>\n",
              "      <td>52000.000000</td>\n",
              "      <td>52000.000000</td>\n",
              "      <td>52000.000000</td>\n",
              "      <td>52000.000000</td>\n",
              "      <td>51912.000000</td>\n",
              "      <td>52000.000000</td>\n",
              "    </tr>\n",
              "    <tr>\n",
              "      <th>mean</th>\n",
              "      <td>440284.256846</td>\n",
              "      <td>2.998617e+05</td>\n",
              "      <td>-1.427193</td>\n",
              "      <td>52.586684</td>\n",
              "      <td>30.401712</td>\n",
              "      <td>2.837145</td>\n",
              "      <td>1.834327</td>\n",
              "      <td>1.354756</td>\n",
              "      <td>4.130712</td>\n",
              "      <td>349.542558</td>\n",
              "      <td>4.080519</td>\n",
              "      <td>997.078077</td>\n",
              "      <td>39.148558</td>\n",
              "      <td>2.672673</td>\n",
              "      <td>384.503058</td>\n",
              "      <td>1.359397</td>\n",
              "      <td>2009.401788</td>\n",
              "    </tr>\n",
              "    <tr>\n",
              "      <th>std</th>\n",
              "      <td>95109.751221</td>\n",
              "      <td>1.613624e+05</td>\n",
              "      <td>1.398249</td>\n",
              "      <td>1.453049</td>\n",
              "      <td>25.545581</td>\n",
              "      <td>0.402582</td>\n",
              "      <td>0.727856</td>\n",
              "      <td>0.855220</td>\n",
              "      <td>1.926217</td>\n",
              "      <td>259.504721</td>\n",
              "      <td>1.428056</td>\n",
              "      <td>1806.405065</td>\n",
              "      <td>14.212826</td>\n",
              "      <td>3.205080</td>\n",
              "      <td>1304.989395</td>\n",
              "      <td>0.479868</td>\n",
              "      <td>3.006997</td>\n",
              "    </tr>\n",
              "    <tr>\n",
              "      <th>min</th>\n",
              "      <td>98480.000000</td>\n",
              "      <td>1.903000e+04</td>\n",
              "      <td>-6.895268</td>\n",
              "      <td>50.026153</td>\n",
              "      <td>1.000000</td>\n",
              "      <td>1.000000</td>\n",
              "      <td>1.000000</td>\n",
              "      <td>1.000000</td>\n",
              "      <td>1.000000</td>\n",
              "      <td>1.000000</td>\n",
              "      <td>1.000000</td>\n",
              "      <td>0.000000</td>\n",
              "      <td>15.000000</td>\n",
              "      <td>-1.000000</td>\n",
              "      <td>-1.000000</td>\n",
              "      <td>1.000000</td>\n",
              "      <td>2005.000000</td>\n",
              "    </tr>\n",
              "    <tr>\n",
              "      <th>25%</th>\n",
              "      <td>375540.000000</td>\n",
              "      <td>1.780100e+05</td>\n",
              "      <td>-2.366190</td>\n",
              "      <td>51.487676</td>\n",
              "      <td>7.000000</td>\n",
              "      <td>3.000000</td>\n",
              "      <td>1.000000</td>\n",
              "      <td>1.000000</td>\n",
              "      <td>2.000000</td>\n",
              "      <td>112.000000</td>\n",
              "      <td>3.000000</td>\n",
              "      <td>0.000000</td>\n",
              "      <td>30.000000</td>\n",
              "      <td>-1.000000</td>\n",
              "      <td>0.000000</td>\n",
              "      <td>1.000000</td>\n",
              "      <td>2006.000000</td>\n",
              "    </tr>\n",
              "    <tr>\n",
              "      <th>50%</th>\n",
              "      <td>440950.000000</td>\n",
              "      <td>2.671800e+05</td>\n",
              "      <td>-1.391202</td>\n",
              "      <td>52.295042</td>\n",
              "      <td>30.000000</td>\n",
              "      <td>3.000000</td>\n",
              "      <td>2.000000</td>\n",
              "      <td>1.000000</td>\n",
              "      <td>4.000000</td>\n",
              "      <td>323.000000</td>\n",
              "      <td>4.000000</td>\n",
              "      <td>128.500000</td>\n",
              "      <td>30.000000</td>\n",
              "      <td>3.000000</td>\n",
              "      <td>0.000000</td>\n",
              "      <td>1.000000</td>\n",
              "      <td>2010.000000</td>\n",
              "    </tr>\n",
              "    <tr>\n",
              "      <th>75%</th>\n",
              "      <td>523500.000000</td>\n",
              "      <td>3.981492e+05</td>\n",
              "      <td>-0.214666</td>\n",
              "      <td>53.478016</td>\n",
              "      <td>46.000000</td>\n",
              "      <td>3.000000</td>\n",
              "      <td>2.000000</td>\n",
              "      <td>1.000000</td>\n",
              "      <td>6.000000</td>\n",
              "      <td>530.000000</td>\n",
              "      <td>6.000000</td>\n",
              "      <td>716.000000</td>\n",
              "      <td>50.000000</td>\n",
              "      <td>6.000000</td>\n",
              "      <td>0.000000</td>\n",
              "      <td>2.000000</td>\n",
              "      <td>2012.000000</td>\n",
              "    </tr>\n",
              "    <tr>\n",
              "      <th>max</th>\n",
              "      <td>654960.000000</td>\n",
              "      <td>1.203900e+06</td>\n",
              "      <td>1.753632</td>\n",
              "      <td>60.714774</td>\n",
              "      <td>98.000000</td>\n",
              "      <td>3.000000</td>\n",
              "      <td>34.000000</td>\n",
              "      <td>51.000000</td>\n",
              "      <td>7.000000</td>\n",
              "      <td>941.000000</td>\n",
              "      <td>6.000000</td>\n",
              "      <td>9999.000000</td>\n",
              "      <td>70.000000</td>\n",
              "      <td>6.000000</td>\n",
              "      <td>9999.000000</td>\n",
              "      <td>3.000000</td>\n",
              "      <td>2014.000000</td>\n",
              "    </tr>\n",
              "  </tbody>\n",
              "</table>\n",
              "</div>\n",
              "    <div class=\"colab-df-buttons\">\n",
              "\n",
              "  <div class=\"colab-df-container\">\n",
              "    <button class=\"colab-df-convert\" onclick=\"convertToInteractive('df-58ea5d34-b353-4108-a43e-bd3db2cc8650')\"\n",
              "            title=\"Convert this dataframe to an interactive table.\"\n",
              "            style=\"display:none;\">\n",
              "\n",
              "  <svg xmlns=\"http://www.w3.org/2000/svg\" height=\"24px\" viewBox=\"0 -960 960 960\">\n",
              "    <path d=\"M120-120v-720h720v720H120Zm60-500h600v-160H180v160Zm220 220h160v-160H400v160Zm0 220h160v-160H400v160ZM180-400h160v-160H180v160Zm440 0h160v-160H620v160ZM180-180h160v-160H180v160Zm440 0h160v-160H620v160Z\"/>\n",
              "  </svg>\n",
              "    </button>\n",
              "\n",
              "  <style>\n",
              "    .colab-df-container {\n",
              "      display:flex;\n",
              "      gap: 12px;\n",
              "    }\n",
              "\n",
              "    .colab-df-convert {\n",
              "      background-color: #E8F0FE;\n",
              "      border: none;\n",
              "      border-radius: 50%;\n",
              "      cursor: pointer;\n",
              "      display: none;\n",
              "      fill: #1967D2;\n",
              "      height: 32px;\n",
              "      padding: 0 0 0 0;\n",
              "      width: 32px;\n",
              "    }\n",
              "\n",
              "    .colab-df-convert:hover {\n",
              "      background-color: #E2EBFA;\n",
              "      box-shadow: 0px 1px 2px rgba(60, 64, 67, 0.3), 0px 1px 3px 1px rgba(60, 64, 67, 0.15);\n",
              "      fill: #174EA6;\n",
              "    }\n",
              "\n",
              "    .colab-df-buttons div {\n",
              "      margin-bottom: 4px;\n",
              "    }\n",
              "\n",
              "    [theme=dark] .colab-df-convert {\n",
              "      background-color: #3B4455;\n",
              "      fill: #D2E3FC;\n",
              "    }\n",
              "\n",
              "    [theme=dark] .colab-df-convert:hover {\n",
              "      background-color: #434B5C;\n",
              "      box-shadow: 0px 1px 3px 1px rgba(0, 0, 0, 0.15);\n",
              "      filter: drop-shadow(0px 1px 2px rgba(0, 0, 0, 0.3));\n",
              "      fill: #FFFFFF;\n",
              "    }\n",
              "  </style>\n",
              "\n",
              "    <script>\n",
              "      const buttonEl =\n",
              "        document.querySelector('#df-58ea5d34-b353-4108-a43e-bd3db2cc8650 button.colab-df-convert');\n",
              "      buttonEl.style.display =\n",
              "        google.colab.kernel.accessAllowed ? 'block' : 'none';\n",
              "\n",
              "      async function convertToInteractive(key) {\n",
              "        const element = document.querySelector('#df-58ea5d34-b353-4108-a43e-bd3db2cc8650');\n",
              "        const dataTable =\n",
              "          await google.colab.kernel.invokeFunction('convertToInteractive',\n",
              "                                                    [key], {});\n",
              "        if (!dataTable) return;\n",
              "\n",
              "        const docLinkHtml = 'Like what you see? Visit the ' +\n",
              "          '<a target=\"_blank\" href=https://colab.research.google.com/notebooks/data_table.ipynb>data table notebook</a>'\n",
              "          + ' to learn more about interactive tables.';\n",
              "        element.innerHTML = '';\n",
              "        dataTable['output_type'] = 'display_data';\n",
              "        await google.colab.output.renderOutput(dataTable, element);\n",
              "        const docLink = document.createElement('div');\n",
              "        docLink.innerHTML = docLinkHtml;\n",
              "        element.appendChild(docLink);\n",
              "      }\n",
              "    </script>\n",
              "  </div>\n",
              "\n",
              "\n",
              "<div id=\"df-340cc901-264f-4a7e-8610-a6d15f8fa5ed\">\n",
              "  <button class=\"colab-df-quickchart\" onclick=\"quickchart('df-340cc901-264f-4a7e-8610-a6d15f8fa5ed')\"\n",
              "            title=\"Suggest charts\"\n",
              "            style=\"display:none;\">\n",
              "\n",
              "<svg xmlns=\"http://www.w3.org/2000/svg\" height=\"24px\"viewBox=\"0 0 24 24\"\n",
              "     width=\"24px\">\n",
              "    <g>\n",
              "        <path d=\"M19 3H5c-1.1 0-2 .9-2 2v14c0 1.1.9 2 2 2h14c1.1 0 2-.9 2-2V5c0-1.1-.9-2-2-2zM9 17H7v-7h2v7zm4 0h-2V7h2v10zm4 0h-2v-4h2v4z\"/>\n",
              "    </g>\n",
              "</svg>\n",
              "  </button>\n",
              "\n",
              "<style>\n",
              "  .colab-df-quickchart {\n",
              "      --bg-color: #E8F0FE;\n",
              "      --fill-color: #1967D2;\n",
              "      --hover-bg-color: #E2EBFA;\n",
              "      --hover-fill-color: #174EA6;\n",
              "      --disabled-fill-color: #AAA;\n",
              "      --disabled-bg-color: #DDD;\n",
              "  }\n",
              "\n",
              "  [theme=dark] .colab-df-quickchart {\n",
              "      --bg-color: #3B4455;\n",
              "      --fill-color: #D2E3FC;\n",
              "      --hover-bg-color: #434B5C;\n",
              "      --hover-fill-color: #FFFFFF;\n",
              "      --disabled-bg-color: #3B4455;\n",
              "      --disabled-fill-color: #666;\n",
              "  }\n",
              "\n",
              "  .colab-df-quickchart {\n",
              "    background-color: var(--bg-color);\n",
              "    border: none;\n",
              "    border-radius: 50%;\n",
              "    cursor: pointer;\n",
              "    display: none;\n",
              "    fill: var(--fill-color);\n",
              "    height: 32px;\n",
              "    padding: 0;\n",
              "    width: 32px;\n",
              "  }\n",
              "\n",
              "  .colab-df-quickchart:hover {\n",
              "    background-color: var(--hover-bg-color);\n",
              "    box-shadow: 0 1px 2px rgba(60, 64, 67, 0.3), 0 1px 3px 1px rgba(60, 64, 67, 0.15);\n",
              "    fill: var(--button-hover-fill-color);\n",
              "  }\n",
              "\n",
              "  .colab-df-quickchart-complete:disabled,\n",
              "  .colab-df-quickchart-complete:disabled:hover {\n",
              "    background-color: var(--disabled-bg-color);\n",
              "    fill: var(--disabled-fill-color);\n",
              "    box-shadow: none;\n",
              "  }\n",
              "\n",
              "  .colab-df-spinner {\n",
              "    border: 2px solid var(--fill-color);\n",
              "    border-color: transparent;\n",
              "    border-bottom-color: var(--fill-color);\n",
              "    animation:\n",
              "      spin 1s steps(1) infinite;\n",
              "  }\n",
              "\n",
              "  @keyframes spin {\n",
              "    0% {\n",
              "      border-color: transparent;\n",
              "      border-bottom-color: var(--fill-color);\n",
              "      border-left-color: var(--fill-color);\n",
              "    }\n",
              "    20% {\n",
              "      border-color: transparent;\n",
              "      border-left-color: var(--fill-color);\n",
              "      border-top-color: var(--fill-color);\n",
              "    }\n",
              "    30% {\n",
              "      border-color: transparent;\n",
              "      border-left-color: var(--fill-color);\n",
              "      border-top-color: var(--fill-color);\n",
              "      border-right-color: var(--fill-color);\n",
              "    }\n",
              "    40% {\n",
              "      border-color: transparent;\n",
              "      border-right-color: var(--fill-color);\n",
              "      border-top-color: var(--fill-color);\n",
              "    }\n",
              "    60% {\n",
              "      border-color: transparent;\n",
              "      border-right-color: var(--fill-color);\n",
              "    }\n",
              "    80% {\n",
              "      border-color: transparent;\n",
              "      border-right-color: var(--fill-color);\n",
              "      border-bottom-color: var(--fill-color);\n",
              "    }\n",
              "    90% {\n",
              "      border-color: transparent;\n",
              "      border-bottom-color: var(--fill-color);\n",
              "    }\n",
              "  }\n",
              "</style>\n",
              "\n",
              "  <script>\n",
              "    async function quickchart(key) {\n",
              "      const quickchartButtonEl =\n",
              "        document.querySelector('#' + key + ' button');\n",
              "      quickchartButtonEl.disabled = true;  // To prevent multiple clicks.\n",
              "      quickchartButtonEl.classList.add('colab-df-spinner');\n",
              "      try {\n",
              "        const charts = await google.colab.kernel.invokeFunction(\n",
              "            'suggestCharts', [key], {});\n",
              "      } catch (error) {\n",
              "        console.error('Error during call to suggestCharts:', error);\n",
              "      }\n",
              "      quickchartButtonEl.classList.remove('colab-df-spinner');\n",
              "      quickchartButtonEl.classList.add('colab-df-quickchart-complete');\n",
              "    }\n",
              "    (() => {\n",
              "      let quickchartButtonEl =\n",
              "        document.querySelector('#df-340cc901-264f-4a7e-8610-a6d15f8fa5ed button');\n",
              "      quickchartButtonEl.style.display =\n",
              "        google.colab.kernel.accessAllowed ? 'block' : 'none';\n",
              "    })();\n",
              "  </script>\n",
              "</div>\n",
              "\n",
              "    </div>\n",
              "  </div>\n"
            ],
            "application/vnd.google.colaboratory.intrinsic+json": {
              "type": "dataframe",
              "summary": "{\n  \"name\": \"X\",\n  \"rows\": 8,\n  \"fields\": [\n    {\n      \"column\": \"Location_Easting_OSGR\",\n      \"properties\": {\n        \"dtype\": \"number\",\n        \"std\": 225337.29557057365,\n        \"min\": 52000.0,\n        \"max\": 654960.0,\n        \"num_unique_values\": 8,\n        \"samples\": [\n          440284.2568461538,\n          440950.0,\n          52000.0\n        ],\n        \"semantic_type\": \"\",\n        \"description\": \"\"\n      }\n    },\n    {\n      \"column\": \"Location_Northing_OSGR\",\n      \"properties\": {\n        \"dtype\": \"number\",\n        \"std\": 377637.11182757036,\n        \"min\": 19030.0,\n        \"max\": 1203900.0,\n        \"num_unique_values\": 8,\n        \"samples\": [\n          299861.65678846155,\n          267180.0,\n          52000.0\n        ],\n        \"semantic_type\": \"\",\n        \"description\": \"\"\n      }\n    },\n    {\n      \"column\": \"Longitude\",\n      \"properties\": {\n        \"dtype\": \"number\",\n        \"std\": 18385.2382790115,\n        \"min\": -6.895268,\n        \"max\": 52000.0,\n        \"num_unique_values\": 8,\n        \"samples\": [\n          -1.4271929981346154,\n          -1.391202,\n          52000.0\n        ],\n        \"semantic_type\": \"\",\n        \"description\": \"\"\n      }\n    },\n    {\n      \"column\": \"Latitude\",\n      \"properties\": {\n        \"dtype\": \"number\",\n        \"std\": 18368.52004328747,\n        \"min\": 1.4530493475481103,\n        \"max\": 52000.0,\n        \"num_unique_values\": 8,\n        \"samples\": [\n          52.58668354140385,\n          52.295042,\n          52000.0\n        ],\n        \"semantic_type\": \"\",\n        \"description\": \"\"\n      }\n    },\n    {\n      \"column\": \"Police_Force\",\n      \"properties\": {\n        \"dtype\": \"number\",\n        \"std\": 18372.78210007003,\n        \"min\": 1.0,\n        \"max\": 52000.0,\n        \"num_unique_values\": 8,\n        \"samples\": [\n          30.401711538461537,\n          30.0,\n          52000.0\n        ],\n        \"semantic_type\": \"\",\n        \"description\": \"\"\n      }\n    },\n    {\n      \"column\": \"Accident_Severity\",\n      \"properties\": {\n        \"dtype\": \"number\",\n        \"std\": 18270.11191843506,\n        \"min\": 0.4025821721275909,\n        \"max\": 51678.0,\n        \"num_unique_values\": 5,\n        \"samples\": [\n          2.837145400363791,\n          3.0,\n          0.4025821721275909\n        ],\n        \"semantic_type\": \"\",\n        \"description\": \"\"\n      }\n    },\n    {\n      \"column\": \"Number_of_Vehicles\",\n      \"properties\": {\n        \"dtype\": \"number\",\n        \"std\": 18382.630136221676,\n        \"min\": 0.7278558634846296,\n        \"max\": 52000.0,\n        \"num_unique_values\": 6,\n        \"samples\": [\n          52000.0,\n          1.834326923076923,\n          34.0\n        ],\n        \"semantic_type\": \"\",\n        \"description\": \"\"\n      }\n    },\n    {\n      \"column\": \"Number_of_Casualties\",\n      \"properties\": {\n        \"dtype\": \"number\",\n        \"std\": 18013.846176653795,\n        \"min\": 0.8552197719125745,\n        \"max\": 50959.0,\n        \"num_unique_values\": 5,\n        \"samples\": [\n          1.3547557840616966,\n          51.0,\n          0.8552197719125745\n        ],\n        \"semantic_type\": \"\",\n        \"description\": \"\"\n      }\n    },\n    {\n      \"column\": \"Day_of_Week\",\n      \"properties\": {\n        \"dtype\": \"number\",\n        \"std\": 18383.46035290893,\n        \"min\": 1.0,\n        \"max\": 52000.0,\n        \"num_unique_values\": 8,\n        \"samples\": [\n          4.130711538461538,\n          4.0,\n          52000.0\n        ],\n        \"semantic_type\": \"\",\n        \"description\": \"\"\n      }\n    },\n    {\n      \"column\": \"Local_Authority_(District)\",\n      \"properties\": {\n        \"dtype\": \"number\",\n        \"std\": 18259.920400925,\n        \"min\": 1.0,\n        \"max\": 52000.0,\n        \"num_unique_values\": 8,\n        \"samples\": [\n          349.5425576923077,\n          323.0,\n          52000.0\n        ],\n        \"semantic_type\": \"\",\n        \"description\": \"\"\n      }\n    },\n    {\n      \"column\": \"1st_Road_Class\",\n      \"properties\": {\n        \"dtype\": \"number\",\n        \"std\": 18383.488025454724,\n        \"min\": 1.0,\n        \"max\": 52000.0,\n        \"num_unique_values\": 7,\n        \"samples\": [\n          52000.0,\n          4.080519230769231,\n          4.0\n        ],\n        \"semantic_type\": \"\",\n        \"description\": \"\"\n      }\n    },\n    {\n      \"column\": \"1st_Road_Number\",\n      \"properties\": {\n        \"dtype\": \"number\",\n        \"std\": 18008.23475820738,\n        \"min\": 0.0,\n        \"max\": 52000.0,\n        \"num_unique_values\": 7,\n        \"samples\": [\n          52000.0,\n          997.0780769230769,\n          716.0\n        ],\n        \"semantic_type\": \"\",\n        \"description\": \"\"\n      }\n    },\n    {\n      \"column\": \"Speed_limit\",\n      \"properties\": {\n        \"dtype\": \"number\",\n        \"std\": 18372.241294211548,\n        \"min\": 14.212825597541219,\n        \"max\": 52000.0,\n        \"num_unique_values\": 7,\n        \"samples\": [\n          52000.0,\n          39.14855769230769,\n          50.0\n        ],\n        \"semantic_type\": \"\",\n        \"description\": \"\"\n      }\n    },\n    {\n      \"column\": \"2nd_Road_Class\",\n      \"properties\": {\n        \"dtype\": \"number\",\n        \"std\": 18383.823032703807,\n        \"min\": -1.0,\n        \"max\": 52000.0,\n        \"num_unique_values\": 6,\n        \"samples\": [\n          52000.0,\n          2.672673076923077,\n          6.0\n        ],\n        \"semantic_type\": \"\",\n        \"description\": \"\"\n      }\n    },\n    {\n      \"column\": \"2nd_Road_Number\",\n      \"properties\": {\n        \"dtype\": \"number\",\n        \"std\": 18121.88398852759,\n        \"min\": -1.0,\n        \"max\": 52000.0,\n        \"num_unique_values\": 6,\n        \"samples\": [\n          52000.0,\n          384.5030576923077,\n          9999.0\n        ],\n        \"semantic_type\": \"\",\n        \"description\": \"\"\n      }\n    },\n    {\n      \"column\": \"Urban_or_Rural_Area\",\n      \"properties\": {\n        \"dtype\": \"number\",\n        \"std\": 18353.16667107943,\n        \"min\": 0.47986838460118086,\n        \"max\": 51912.0,\n        \"num_unique_values\": 6,\n        \"samples\": [\n          51912.0,\n          1.359396671289875,\n          3.0\n        ],\n        \"semantic_type\": \"\",\n        \"description\": \"\"\n      }\n    },\n    {\n      \"column\": \"Year\",\n      \"properties\": {\n        \"dtype\": \"number\",\n        \"std\": 17789.54437645692,\n        \"min\": 3.0069965711443953,\n        \"max\": 52000.0,\n        \"num_unique_values\": 8,\n        \"samples\": [\n          2009.4017884615384,\n          2010.0,\n          52000.0\n        ],\n        \"semantic_type\": \"\",\n        \"description\": \"\"\n      }\n    }\n  ]\n}"
            }
          },
          "metadata": {},
          "execution_count": 10
        }
      ]
    },
    {
      "cell_type": "code",
      "source": [
        "X.duplicated().sum()"
      ],
      "metadata": {
        "id": "9T1aZBXE6muD",
        "outputId": "f7f8dabb-021f-4e2f-e194-f30bae0aa564",
        "colab": {
          "base_uri": "https://localhost:8080/"
        }
      },
      "id": "9T1aZBXE6muD",
      "execution_count": 11,
      "outputs": [
        {
          "output_type": "execute_result",
          "data": {
            "text/plain": [
              "43"
            ]
          },
          "metadata": {},
          "execution_count": 11
        }
      ]
    },
    {
      "cell_type": "markdown",
      "id": "b0d002cd",
      "metadata": {
        "id": "b0d002cd"
      },
      "source": [
        "## Data Preprocessing\n",
        "Do what you think you need such as:\n",
        "* Remove the outliers\n",
        "* Impute missing data\n",
        "* Scale the data\n",
        "* Reduce dimentions using PCA\n",
        "* Implement One-Hot Encoding for nominal categorical variables."
      ]
    },
    {
      "cell_type": "code",
      "execution_count": 6,
      "id": "ca5bbcf9",
      "metadata": {
        "id": "ca5bbcf9"
      },
      "outputs": [],
      "source": [
        "X = X.dropna() #drop null values"
      ]
    },
    {
      "cell_type": "code",
      "source": [
        "X = StandardScaler().fit_transform(X) #scale the data"
      ],
      "metadata": {
        "id": "tbk2GUeBOTcU"
      },
      "id": "tbk2GUeBOTcU",
      "execution_count": 10,
      "outputs": []
    },
    {
      "cell_type": "code",
      "source": [
        "sklearn_pca = sklearnPCA(n_components=2) #PCA\n",
        "Y_sklearn = sklearn_pca.fit_transform(X)\n",
        "\n",
        "sklearn_pca.explained_variance_ratio_"
      ],
      "metadata": {
        "colab": {
          "base_uri": "https://localhost:8080/"
        },
        "collapsed": true,
        "id": "PCzMFSQZPEsV",
        "outputId": "f09f1bd2-1215-451b-ea4d-8c53c1efd259"
      },
      "id": "PCzMFSQZPEsV",
      "execution_count": 11,
      "outputs": [
        {
          "output_type": "execute_result",
          "data": {
            "text/plain": [
              "array([0.0015409 , 0.00110693])"
            ]
          },
          "metadata": {},
          "execution_count": 11
        }
      ]
    },
    {
      "cell_type": "code",
      "source": [
        "X = pd.get_dummies(X, drop_first=True) # Encode categorical variables"
      ],
      "metadata": {
        "colab": {
          "base_uri": "https://localhost:8080/",
          "height": 293
        },
        "id": "h7pDOE2CNqY_",
        "outputId": "6ded10ff-6832-413c-d8c1-b416c94296dd"
      },
      "id": "h7pDOE2CNqY_",
      "execution_count": 26,
      "outputs": [
        {
          "output_type": "error",
          "ename": "ValueError",
          "evalue": "Data must be 1-dimensional, got ndarray of shape (8282, 3232) instead",
          "traceback": [
            "\u001b[0;31m---------------------------------------------------------------------------\u001b[0m",
            "\u001b[0;31mValueError\u001b[0m                                Traceback (most recent call last)",
            "\u001b[0;32m<ipython-input-26-46745971d82c>\u001b[0m in \u001b[0;36m<cell line: 1>\u001b[0;34m()\u001b[0m\n\u001b[0;32m----> 1\u001b[0;31m \u001b[0mX\u001b[0m \u001b[0;34m=\u001b[0m \u001b[0mpd\u001b[0m\u001b[0;34m.\u001b[0m\u001b[0mget_dummies\u001b[0m\u001b[0;34m(\u001b[0m\u001b[0mX\u001b[0m\u001b[0;34m,\u001b[0m \u001b[0mdrop_first\u001b[0m\u001b[0;34m=\u001b[0m\u001b[0;32mTrue\u001b[0m\u001b[0;34m)\u001b[0m \u001b[0;31m# Encode categorical variables\u001b[0m\u001b[0;34m\u001b[0m\u001b[0;34m\u001b[0m\u001b[0m\n\u001b[0m",
            "\u001b[0;32m/usr/local/lib/python3.10/dist-packages/pandas/core/reshape/encoding.py\u001b[0m in \u001b[0;36mget_dummies\u001b[0;34m(data, prefix, prefix_sep, dummy_na, columns, sparse, drop_first, dtype)\u001b[0m\n\u001b[1;32m    219\u001b[0m         \u001b[0mresult\u001b[0m \u001b[0;34m=\u001b[0m \u001b[0mconcat\u001b[0m\u001b[0;34m(\u001b[0m\u001b[0mwith_dummies\u001b[0m\u001b[0;34m,\u001b[0m \u001b[0maxis\u001b[0m\u001b[0;34m=\u001b[0m\u001b[0;36m1\u001b[0m\u001b[0;34m)\u001b[0m\u001b[0;34m\u001b[0m\u001b[0;34m\u001b[0m\u001b[0m\n\u001b[1;32m    220\u001b[0m     \u001b[0;32melse\u001b[0m\u001b[0;34m:\u001b[0m\u001b[0;34m\u001b[0m\u001b[0;34m\u001b[0m\u001b[0m\n\u001b[0;32m--> 221\u001b[0;31m         result = _get_dummies_1d(\n\u001b[0m\u001b[1;32m    222\u001b[0m             \u001b[0mdata\u001b[0m\u001b[0;34m,\u001b[0m\u001b[0;34m\u001b[0m\u001b[0;34m\u001b[0m\u001b[0m\n\u001b[1;32m    223\u001b[0m             \u001b[0mprefix\u001b[0m\u001b[0;34m,\u001b[0m\u001b[0;34m\u001b[0m\u001b[0;34m\u001b[0m\u001b[0m\n",
            "\u001b[0;32m/usr/local/lib/python3.10/dist-packages/pandas/core/reshape/encoding.py\u001b[0m in \u001b[0;36m_get_dummies_1d\u001b[0;34m(data, prefix, prefix_sep, dummy_na, sparse, drop_first, dtype)\u001b[0m\n\u001b[1;32m    243\u001b[0m \u001b[0;34m\u001b[0m\u001b[0m\n\u001b[1;32m    244\u001b[0m     \u001b[0;31m# Series avoids inconsistent NaN handling\u001b[0m\u001b[0;34m\u001b[0m\u001b[0;34m\u001b[0m\u001b[0m\n\u001b[0;32m--> 245\u001b[0;31m     \u001b[0mcodes\u001b[0m\u001b[0;34m,\u001b[0m \u001b[0mlevels\u001b[0m \u001b[0;34m=\u001b[0m \u001b[0mfactorize_from_iterable\u001b[0m\u001b[0;34m(\u001b[0m\u001b[0mSeries\u001b[0m\u001b[0;34m(\u001b[0m\u001b[0mdata\u001b[0m\u001b[0;34m,\u001b[0m \u001b[0mcopy\u001b[0m\u001b[0;34m=\u001b[0m\u001b[0;32mFalse\u001b[0m\u001b[0;34m)\u001b[0m\u001b[0;34m)\u001b[0m\u001b[0;34m\u001b[0m\u001b[0;34m\u001b[0m\u001b[0m\n\u001b[0m\u001b[1;32m    246\u001b[0m \u001b[0;34m\u001b[0m\u001b[0m\n\u001b[1;32m    247\u001b[0m     \u001b[0;32mif\u001b[0m \u001b[0mdtype\u001b[0m \u001b[0;32mis\u001b[0m \u001b[0;32mNone\u001b[0m\u001b[0;34m:\u001b[0m\u001b[0;34m\u001b[0m\u001b[0;34m\u001b[0m\u001b[0m\n",
            "\u001b[0;32m/usr/local/lib/python3.10/dist-packages/pandas/core/series.py\u001b[0m in \u001b[0;36m__init__\u001b[0;34m(self, data, index, dtype, name, copy, fastpath)\u001b[0m\n\u001b[1;32m    510\u001b[0m                 \u001b[0mdata\u001b[0m \u001b[0;34m=\u001b[0m \u001b[0mdata\u001b[0m\u001b[0;34m.\u001b[0m\u001b[0mcopy\u001b[0m\u001b[0;34m(\u001b[0m\u001b[0;34m)\u001b[0m\u001b[0;34m\u001b[0m\u001b[0;34m\u001b[0m\u001b[0m\n\u001b[1;32m    511\u001b[0m         \u001b[0;32melse\u001b[0m\u001b[0;34m:\u001b[0m\u001b[0;34m\u001b[0m\u001b[0;34m\u001b[0m\u001b[0m\n\u001b[0;32m--> 512\u001b[0;31m             \u001b[0mdata\u001b[0m \u001b[0;34m=\u001b[0m \u001b[0msanitize_array\u001b[0m\u001b[0;34m(\u001b[0m\u001b[0mdata\u001b[0m\u001b[0;34m,\u001b[0m \u001b[0mindex\u001b[0m\u001b[0;34m,\u001b[0m \u001b[0mdtype\u001b[0m\u001b[0;34m,\u001b[0m \u001b[0mcopy\u001b[0m\u001b[0;34m)\u001b[0m\u001b[0;34m\u001b[0m\u001b[0;34m\u001b[0m\u001b[0m\n\u001b[0m\u001b[1;32m    513\u001b[0m \u001b[0;34m\u001b[0m\u001b[0m\n\u001b[1;32m    514\u001b[0m             \u001b[0mmanager\u001b[0m \u001b[0;34m=\u001b[0m \u001b[0mget_option\u001b[0m\u001b[0;34m(\u001b[0m\u001b[0;34m\"mode.data_manager\"\u001b[0m\u001b[0;34m)\u001b[0m\u001b[0;34m\u001b[0m\u001b[0;34m\u001b[0m\u001b[0m\n",
            "\u001b[0;32m/usr/local/lib/python3.10/dist-packages/pandas/core/construction.py\u001b[0m in \u001b[0;36msanitize_array\u001b[0;34m(data, index, dtype, copy, allow_2d)\u001b[0m\n\u001b[1;32m    656\u001b[0m                 \u001b[0msubarr\u001b[0m \u001b[0;34m=\u001b[0m \u001b[0mmaybe_infer_to_datetimelike\u001b[0m\u001b[0;34m(\u001b[0m\u001b[0msubarr\u001b[0m\u001b[0;34m)\u001b[0m\u001b[0;34m\u001b[0m\u001b[0;34m\u001b[0m\u001b[0m\n\u001b[1;32m    657\u001b[0m \u001b[0;34m\u001b[0m\u001b[0m\n\u001b[0;32m--> 658\u001b[0;31m     \u001b[0msubarr\u001b[0m \u001b[0;34m=\u001b[0m \u001b[0m_sanitize_ndim\u001b[0m\u001b[0;34m(\u001b[0m\u001b[0msubarr\u001b[0m\u001b[0;34m,\u001b[0m \u001b[0mdata\u001b[0m\u001b[0;34m,\u001b[0m \u001b[0mdtype\u001b[0m\u001b[0;34m,\u001b[0m \u001b[0mindex\u001b[0m\u001b[0;34m,\u001b[0m \u001b[0mallow_2d\u001b[0m\u001b[0;34m=\u001b[0m\u001b[0mallow_2d\u001b[0m\u001b[0;34m)\u001b[0m\u001b[0;34m\u001b[0m\u001b[0;34m\u001b[0m\u001b[0m\n\u001b[0m\u001b[1;32m    659\u001b[0m \u001b[0;34m\u001b[0m\u001b[0m\n\u001b[1;32m    660\u001b[0m     \u001b[0;32mif\u001b[0m \u001b[0misinstance\u001b[0m\u001b[0;34m(\u001b[0m\u001b[0msubarr\u001b[0m\u001b[0;34m,\u001b[0m \u001b[0mnp\u001b[0m\u001b[0;34m.\u001b[0m\u001b[0mndarray\u001b[0m\u001b[0;34m)\u001b[0m\u001b[0;34m:\u001b[0m\u001b[0;34m\u001b[0m\u001b[0;34m\u001b[0m\u001b[0m\n",
            "\u001b[0;32m/usr/local/lib/python3.10/dist-packages/pandas/core/construction.py\u001b[0m in \u001b[0;36m_sanitize_ndim\u001b[0;34m(result, data, dtype, index, allow_2d)\u001b[0m\n\u001b[1;32m    715\u001b[0m             \u001b[0;32mif\u001b[0m \u001b[0mallow_2d\u001b[0m\u001b[0;34m:\u001b[0m\u001b[0;34m\u001b[0m\u001b[0;34m\u001b[0m\u001b[0m\n\u001b[1;32m    716\u001b[0m                 \u001b[0;32mreturn\u001b[0m \u001b[0mresult\u001b[0m\u001b[0;34m\u001b[0m\u001b[0;34m\u001b[0m\u001b[0m\n\u001b[0;32m--> 717\u001b[0;31m             raise ValueError(\n\u001b[0m\u001b[1;32m    718\u001b[0m                 \u001b[0;34mf\"Data must be 1-dimensional, got ndarray of shape {data.shape} instead\"\u001b[0m\u001b[0;34m\u001b[0m\u001b[0;34m\u001b[0m\u001b[0m\n\u001b[1;32m    719\u001b[0m             )\n",
            "\u001b[0;31mValueError\u001b[0m: Data must be 1-dimensional, got ndarray of shape (8282, 3232) instead"
          ]
        }
      ]
    },
    {
      "cell_type": "code",
      "source": [
        "\n",
        "#One-hot encode the categorical data with prefix\n",
        "encoded_categorical_data = pd.get_dummies(categorical_data, prefix=categorical_data.columns)\n",
        "\n",
        "#Concatenate the numeric data and the encoded categorical data\n",
        "final_data = pd.concat([encoded_categorical_data , numeric_data], axis=1)\n",
        "final_data"
      ],
      "metadata": {
        "colab": {
          "base_uri": "https://localhost:8080/",
          "height": 233
        },
        "collapsed": true,
        "id": "Gfk_17jFZYkt",
        "outputId": "9095b680-010e-4534-a6a4-fce4f3089ce7"
      },
      "id": "Gfk_17jFZYkt",
      "execution_count": 22,
      "outputs": [
        {
          "output_type": "error",
          "ename": "AttributeError",
          "evalue": "'numpy.ndarray' object has no attribute 'select_dtypes'",
          "traceback": [
            "\u001b[0;31m---------------------------------------------------------------------------\u001b[0m",
            "\u001b[0;31mAttributeError\u001b[0m                            Traceback (most recent call last)",
            "\u001b[0;32m<ipython-input-22-c76aae531058>\u001b[0m in \u001b[0;36m<cell line: 2>\u001b[0;34m()\u001b[0m\n\u001b[1;32m      1\u001b[0m \u001b[0mX_original\u001b[0m \u001b[0;34m=\u001b[0m \u001b[0mX\u001b[0m\u001b[0;34m.\u001b[0m\u001b[0mcopy\u001b[0m\u001b[0;34m(\u001b[0m\u001b[0;34m)\u001b[0m\u001b[0;34m\u001b[0m\u001b[0;34m\u001b[0m\u001b[0m\n\u001b[0;32m----> 2\u001b[0;31m \u001b[0mnumeric_data\u001b[0m\u001b[0;34m=\u001b[0m\u001b[0mX_original\u001b[0m\u001b[0;34m.\u001b[0m\u001b[0mselect_dtypes\u001b[0m\u001b[0;34m(\u001b[0m\u001b[0minclude\u001b[0m\u001b[0;34m=\u001b[0m\u001b[0;34m[\u001b[0m\u001b[0;34m'int64'\u001b[0m\u001b[0;34m,\u001b[0m\u001b[0;34m'float64'\u001b[0m\u001b[0;34m]\u001b[0m\u001b[0;34m)\u001b[0m\u001b[0;34m\u001b[0m\u001b[0;34m\u001b[0m\u001b[0m\n\u001b[0m\u001b[1;32m      3\u001b[0m \u001b[0mcategorical_data\u001b[0m\u001b[0;34m=\u001b[0m\u001b[0mX_original\u001b[0m\u001b[0;34m.\u001b[0m\u001b[0mselect_dtypes\u001b[0m\u001b[0;34m(\u001b[0m\u001b[0minclude\u001b[0m\u001b[0;34m=\u001b[0m\u001b[0;34m[\u001b[0m\u001b[0;34m'object'\u001b[0m\u001b[0;34m]\u001b[0m\u001b[0;34m)\u001b[0m\u001b[0;34m\u001b[0m\u001b[0;34m\u001b[0m\u001b[0m\n\u001b[1;32m      4\u001b[0m \u001b[0;31m#One-hot encode the categorical data with prefix\u001b[0m\u001b[0;34m\u001b[0m\u001b[0;34m\u001b[0m\u001b[0m\n\u001b[1;32m      5\u001b[0m \u001b[0mencoded_categorical_data\u001b[0m \u001b[0;34m=\u001b[0m \u001b[0mpd\u001b[0m\u001b[0;34m.\u001b[0m\u001b[0mget_dummies\u001b[0m\u001b[0;34m(\u001b[0m\u001b[0mcategorical_data\u001b[0m\u001b[0;34m,\u001b[0m \u001b[0mprefix\u001b[0m\u001b[0;34m=\u001b[0m\u001b[0mcategorical_data\u001b[0m\u001b[0;34m.\u001b[0m\u001b[0mcolumns\u001b[0m\u001b[0;34m)\u001b[0m\u001b[0;34m\u001b[0m\u001b[0;34m\u001b[0m\u001b[0m\n",
            "\u001b[0;31mAttributeError\u001b[0m: 'numpy.ndarray' object has no attribute 'select_dtypes'"
          ]
        }
      ]
    },
    {
      "cell_type": "markdown",
      "source": [
        "# **PCA**"
      ],
      "metadata": {
        "id": "BX1S3NJWE1qy"
      },
      "id": "BX1S3NJWE1qy"
    },
    {
      "cell_type": "code",
      "source": [
        "# Mean\n",
        "X_mean = X.mean()\n",
        "\n",
        "# Standard deviation\n",
        "X_std = X.std()\n",
        "\n",
        "# Standardization\n",
        "Z = (X - X_mean) / X_std\n",
        "c = Z.cov()"
      ],
      "metadata": {
        "id": "U68JxjfsCXml"
      },
      "id": "U68JxjfsCXml",
      "execution_count": 33,
      "outputs": []
    },
    {
      "cell_type": "code",
      "source": [
        "eigenvalues, eigenvectors = np.linalg.eig(c)\n",
        "print('Eigen values:\\n', eigenvalues)\n",
        "print('Eigen values Shape:', eigenvalues.shape)\n",
        "print('Eigen Vector Shape:', eigenvectors.shape)"
      ],
      "metadata": {
        "colab": {
          "base_uri": "https://localhost:8080/"
        },
        "collapsed": true,
        "id": "cbT4aSH1EI3K",
        "outputId": "cd4e2d2d-4e12-4354-d4e7-c46d25b64603"
      },
      "id": "cbT4aSH1EI3K",
      "execution_count": 40,
      "outputs": [
        {
          "output_type": "stream",
          "name": "stdout",
          "text": [
            "Eigen values:\n",
            " [3.58308182e+00 2.47958563e+00 1.98835814e+00 1.79737058e+00\n",
            " 1.55579509e+00 1.48000871e-02 3.72674120e-04 1.78881855e-05\n",
            " 4.43307937e-03 2.63540071e-01 1.36158469e+00 4.65583295e-01\n",
            " 5.10606567e-01 1.22478516e+00 6.40236073e-01 6.51793897e-01\n",
            " 1.17386616e+00 1.13506469e+00 1.07987810e+00 7.23394303e-01\n",
            " 7.66553282e-01 1.00079360e+00 9.47874085e-01 8.97320193e-01\n",
            " 8.67897467e-01 8.65413374e-01]\n",
            "Eigen values Shape: (26,)\n",
            "Eigen Vector Shape: (26, 26)\n"
          ]
        }
      ]
    },
    {
      "cell_type": "code",
      "source": [
        "# Index the eigenvalues in descending order\n",
        "idx = eigenvalues.argsort()[::-1]\n",
        "\n",
        "# Sort the eigenvalues in descending order\n",
        "eigenvalues = eigenvalues[idx]\n",
        "\n",
        "# sort the corresponding eigenvectors accordingly\n",
        "eigenvectors = eigenvectors[:,idx]"
      ],
      "metadata": {
        "id": "x5uEBLz_CztY"
      },
      "id": "x5uEBLz_CztY",
      "execution_count": 41,
      "outputs": []
    },
    {
      "cell_type": "code",
      "source": [
        "explained_var = np.cumsum(eigenvalues) / np.sum(eigenvalues)\n",
        "explained_var"
      ],
      "metadata": {
        "colab": {
          "base_uri": "https://localhost:8080/"
        },
        "collapsed": true,
        "id": "1PnkmJDmCyZq",
        "outputId": "8246f461-8fc6-4cc9-967e-412fd569699a"
      },
      "id": "1PnkmJDmCyZq",
      "execution_count": 42,
      "outputs": [
        {
          "output_type": "execute_result",
          "data": {
            "text/plain": [
              "array([0.13781084, 0.23317952, 0.30965483, 0.37878447, 0.43862274,\n",
              "       0.49099138, 0.5380985 , 0.5832472 , 0.62690354, 0.66843731,\n",
              "       0.70692937, 0.74338607, 0.77789838, 0.81127905, 0.84456418,\n",
              "       0.874047  , 0.90186986, 0.92693886, 0.95156332, 0.97120203,\n",
              "       0.98910908, 0.99924524, 0.99981448, 0.99998498, 0.99999931,\n",
              "       1.        ])"
            ]
          },
          "metadata": {},
          "execution_count": 42
        }
      ]
    },
    {
      "cell_type": "code",
      "source": [
        "#Determine the Number of Principal Components\n",
        "n_components = np.argmax(explained_var >= 0.50) + 1\n",
        "n_components"
      ],
      "metadata": {
        "colab": {
          "base_uri": "https://localhost:8080/"
        },
        "id": "6T_JQY4pCiss",
        "outputId": "a9f82549-419e-4239-d420-68d61b33ff5b"
      },
      "id": "6T_JQY4pCiss",
      "execution_count": 43,
      "outputs": [
        {
          "output_type": "execute_result",
          "data": {
            "text/plain": [
              "7"
            ]
          },
          "metadata": {},
          "execution_count": 43
        }
      ]
    },
    {
      "cell_type": "code",
      "source": [
        "# Importing PCA\n",
        "from sklearn.decomposition import PCA\n",
        "\n",
        "# Set components to match x_pca\n",
        "n_components = 2\n",
        "pca = PCA(n_components=n_components)\n",
        "pca.fit(Z)\n",
        "x_pca = pca.transform(Z)\n",
        "\n",
        "# Create the dataframe, using the correct number of components\n",
        "df_pca1 = pd.DataFrame(x_pca,\n",
        "                       columns=['PC{}'.format(i+1) for i in range(n_components)])\n",
        "print(df_pca1)"
      ],
      "metadata": {
        "colab": {
          "base_uri": "https://localhost:8080/"
        },
        "collapsed": true,
        "id": "Z9y93OSFCIH6",
        "outputId": "cc86c4ed-b7cf-464f-bb32-8abf70db6fab"
      },
      "id": "Z9y93OSFCIH6",
      "execution_count": 46,
      "outputs": [
        {
          "output_type": "stream",
          "name": "stdout",
          "text": [
            "            PC1       PC2\n",
            "0      0.096316  4.374129\n",
            "1     -2.441234 -0.236581\n",
            "2      1.524731 -0.973647\n",
            "3      0.605015 -1.575647\n",
            "4     -0.361966 -1.540855\n",
            "...         ...       ...\n",
            "50557 -0.870799 -1.240067\n",
            "50558  0.382806  2.564294\n",
            "50559 -0.935107  0.612581\n",
            "50560 -0.399670 -1.250339\n",
            "50561  0.541754  2.390058\n",
            "\n",
            "[50562 rows x 2 columns]\n"
          ]
        }
      ]
    },
    {
      "cell_type": "markdown",
      "id": "d3f6a968",
      "metadata": {
        "id": "d3f6a968"
      },
      "source": [
        "## Feature Selection\n",
        "Select relevant features for clustering. Explain your choice of features.\n"
      ]
    },
    {
      "cell_type": "code",
      "execution_count": null,
      "id": "7a2b7c47",
      "metadata": {
        "id": "7a2b7c47"
      },
      "outputs": [],
      "source": [
        "#i chosed Accident_Severity and Speed_limit because the level of injuries depend on the vehicle speed ."
      ]
    },
    {
      "cell_type": "markdown",
      "id": "d0379d4e",
      "metadata": {
        "id": "d0379d4e"
      },
      "source": [
        "## Data Visualization\n",
        "Visualize the data using appropriate plots to gain insights into the dataset. Using the following:\n",
        "- Scatter plot of accidents based on Longitude and Latitude."
      ]
    },
    {
      "cell_type": "code",
      "execution_count": 49,
      "id": "660247d7",
      "metadata": {
        "id": "660247d7",
        "outputId": "1403787b-6585-461c-a240-a9d2b34f147a",
        "colab": {
          "base_uri": "https://localhost:8080/",
          "height": 564
        },
        "collapsed": true
      },
      "outputs": [
        {
          "output_type": "display_data",
          "data": {
            "text/plain": [
              "<Figure size 1000x600 with 1 Axes>"
            ],
            "image/png": "[encoded data removed]"
          },
          "metadata": {}
        }
      ],
      "source": [
        "plt.figure(figsize=(10,6))\n",
        "sns.scatterplot(data=X, x='Accident_Severity', y='Speed_limit')\n",
        "plt.title('scatter plots')\n",
        "plt.xlabel('Accident_Severity')\n",
        "plt.ylabel('Speed_limit')\n",
        "plt.show()"
      ]
    },
    {
      "cell_type": "markdown",
      "id": "4d2f9b1d",
      "metadata": {
        "id": "4d2f9b1d"
      },
      "source": [
        "## Clustering\n",
        "Apply K-Means clustering. Determine the optimal number of clusters and justify your choice.\n",
        "* Find the `n_clusters` parameter using the elbow method.\n",
        "* Train the model."
      ]
    },
    {
      "cell_type": "code",
      "source": [
        "# Identify columns with non-numerical data (e.g., dates)\n",
        "non_numeric_cols = X.select_dtypes(exclude=['number']).columns\n",
        "\n",
        "# Convert non-numerical columns to numerical representation\n",
        "for col in non_numeric_cols:\n",
        "    if X[col].dtype == 'object':  # Check if the column is of object type (likely string)\n",
        "        try:\n",
        "            X[col] = pd.to_datetime(X[col])  # Try converting to datetime\n",
        "            X[col] = X[col].apply(lambda x: x.toordinal())  # Convert datetime to ordinal\n",
        "        except:\n",
        "            # Handle cases where conversion to datetime fails, likely other string columns\n",
        "            # Use LabelEncoder to convert categorical strings to numerical labels\n",
        "            from sklearn.preprocessing import LabelEncoder\n",
        "            le = LabelEncoder()\n",
        "            X[col] = le.fit_transform(X[col])"
      ],
      "metadata": {
        "colab": {
          "base_uri": "https://localhost:8080/"
        },
        "collapsed": true,
        "id": "vF7KbpThAU8f",
        "outputId": "04c67358-aeb4-4630-c0c8-f66665765b28"
      },
      "id": "vF7KbpThAU8f",
      "execution_count": 19,
      "outputs": [
        {
          "output_type": "stream",
          "name": "stderr",
          "text": [
            "<ipython-input-19-e71625b8ad6a>:8: UserWarning: Could not infer format, so each element will be parsed individually, falling back to `dateutil`. To ensure parsing is consistent and as-expected, please specify a format.\n",
            "  X[col] = pd.to_datetime(X[col])  # Try converting to datetime\n",
            "<ipython-input-19-e71625b8ad6a>:8: UserWarning: Could not infer format, so each element will be parsed individually, falling back to `dateutil`. To ensure parsing is consistent and as-expected, please specify a format.\n",
            "  X[col] = pd.to_datetime(X[col])  # Try converting to datetime\n",
            "<ipython-input-19-e71625b8ad6a>:8: UserWarning: Could not infer format, so each element will be parsed individually, falling back to `dateutil`. To ensure parsing is consistent and as-expected, please specify a format.\n",
            "  X[col] = pd.to_datetime(X[col])  # Try converting to datetime\n",
            "<ipython-input-19-e71625b8ad6a>:8: UserWarning: Could not infer format, so each element will be parsed individually, falling back to `dateutil`. To ensure parsing is consistent and as-expected, please specify a format.\n",
            "  X[col] = pd.to_datetime(X[col])  # Try converting to datetime\n",
            "<ipython-input-19-e71625b8ad6a>:8: UserWarning: Could not infer format, so each element will be parsed individually, falling back to `dateutil`. To ensure parsing is consistent and as-expected, please specify a format.\n",
            "  X[col] = pd.to_datetime(X[col])  # Try converting to datetime\n",
            "<ipython-input-19-e71625b8ad6a>:8: UserWarning: Could not infer format, so each element will be parsed individually, falling back to `dateutil`. To ensure parsing is consistent and as-expected, please specify a format.\n",
            "  X[col] = pd.to_datetime(X[col])  # Try converting to datetime\n",
            "<ipython-input-19-e71625b8ad6a>:8: UserWarning: Could not infer format, so each element will be parsed individually, falling back to `dateutil`. To ensure parsing is consistent and as-expected, please specify a format.\n",
            "  X[col] = pd.to_datetime(X[col])  # Try converting to datetime\n",
            "<ipython-input-19-e71625b8ad6a>:8: UserWarning: Could not infer format, so each element will be parsed individually, falling back to `dateutil`. To ensure parsing is consistent and as-expected, please specify a format.\n",
            "  X[col] = pd.to_datetime(X[col])  # Try converting to datetime\n"
          ]
        }
      ]
    },
    {
      "cell_type": "code",
      "execution_count": 22,
      "id": "2d08303f",
      "metadata": {
        "id": "2d08303f",
        "outputId": "195b0eba-0392-4ca3-a8cd-232759c0f22a",
        "colab": {
          "base_uri": "https://localhost:8080/"
        },
        "collapsed": true
      },
      "outputs": [
        {
          "output_type": "stream",
          "name": "stderr",
          "text": [
            "/usr/local/lib/python3.10/dist-packages/sklearn/cluster/_kmeans.py:1416: FutureWarning: The default value of `n_init` will change from 10 to 'auto' in 1.4. Set the value of `n_init` explicitly to suppress the warning\n",
            "  super()._check_params_vs_input(X, default_n_init=10)\n",
            "/usr/local/lib/python3.10/dist-packages/sklearn/cluster/_kmeans.py:1416: FutureWarning: The default value of `n_init` will change from 10 to 'auto' in 1.4. Set the value of `n_init` explicitly to suppress the warning\n",
            "  super()._check_params_vs_input(X, default_n_init=10)\n",
            "/usr/local/lib/python3.10/dist-packages/sklearn/cluster/_kmeans.py:1416: FutureWarning: The default value of `n_init` will change from 10 to 'auto' in 1.4. Set the value of `n_init` explicitly to suppress the warning\n",
            "  super()._check_params_vs_input(X, default_n_init=10)\n",
            "/usr/local/lib/python3.10/dist-packages/sklearn/cluster/_kmeans.py:1416: FutureWarning: The default value of `n_init` will change from 10 to 'auto' in 1.4. Set the value of `n_init` explicitly to suppress the warning\n",
            "  super()._check_params_vs_input(X, default_n_init=10)\n",
            "/usr/local/lib/python3.10/dist-packages/sklearn/cluster/_kmeans.py:1416: FutureWarning: The default value of `n_init` will change from 10 to 'auto' in 1.4. Set the value of `n_init` explicitly to suppress the warning\n",
            "  super()._check_params_vs_input(X, default_n_init=10)\n",
            "/usr/local/lib/python3.10/dist-packages/sklearn/cluster/_kmeans.py:1416: FutureWarning: The default value of `n_init` will change from 10 to 'auto' in 1.4. Set the value of `n_init` explicitly to suppress the warning\n",
            "  super()._check_params_vs_input(X, default_n_init=10)\n",
            "/usr/local/lib/python3.10/dist-packages/sklearn/cluster/_kmeans.py:1416: FutureWarning: The default value of `n_init` will change from 10 to 'auto' in 1.4. Set the value of `n_init` explicitly to suppress the warning\n",
            "  super()._check_params_vs_input(X, default_n_init=10)\n",
            "/usr/local/lib/python3.10/dist-packages/sklearn/cluster/_kmeans.py:1416: FutureWarning: The default value of `n_init` will change from 10 to 'auto' in 1.4. Set the value of `n_init` explicitly to suppress the warning\n",
            "  super()._check_params_vs_input(X, default_n_init=10)\n",
            "/usr/local/lib/python3.10/dist-packages/sklearn/cluster/_kmeans.py:1416: FutureWarning: The default value of `n_init` will change from 10 to 'auto' in 1.4. Set the value of `n_init` explicitly to suppress the warning\n",
            "  super()._check_params_vs_input(X, default_n_init=10)\n",
            "/usr/local/lib/python3.10/dist-packages/sklearn/cluster/_kmeans.py:1416: FutureWarning: The default value of `n_init` will change from 10 to 'auto' in 1.4. Set the value of `n_init` explicitly to suppress the warning\n",
            "  super()._check_params_vs_input(X, default_n_init=10)\n"
          ]
        }
      ],
      "source": [
        "#Find optimum number of cluster\n",
        "\n",
        "\n",
        "sse = [] #SUM OF SQUARED ERROR\n",
        "for k in range(1,11):\n",
        "    km = KMeans(n_clusters=k, random_state=2)\n",
        "    km.fit(X)\n",
        "    sse.append(km.inertia_)"
      ]
    },
    {
      "cell_type": "code",
      "source": [
        "#Build the Kmeans clustering model\n",
        "\n",
        "kmeans = KMeans(n_clusters = 3, random_state = 2)\n",
        "kmeans.fit(X)"
      ],
      "metadata": {
        "id": "GbgOQxHl38IW",
        "colab": {
          "base_uri": "https://localhost:8080/",
          "height": 130
        },
        "outputId": "685e686a-2075-4745-c4ca-64b937d87eb9"
      },
      "id": "GbgOQxHl38IW",
      "execution_count": 23,
      "outputs": [
        {
          "output_type": "stream",
          "name": "stderr",
          "text": [
            "/usr/local/lib/python3.10/dist-packages/sklearn/cluster/_kmeans.py:1416: FutureWarning: The default value of `n_init` will change from 10 to 'auto' in 1.4. Set the value of `n_init` explicitly to suppress the warning\n",
            "  super()._check_params_vs_input(X, default_n_init=10)\n"
          ]
        },
        {
          "output_type": "execute_result",
          "data": {
            "text/plain": [
              "KMeans(n_clusters=3, random_state=2)"
            ],
            "text/html": [
              "<style>#sk-container-id-1 {color: black;}#sk-container-id-1 pre{padding: 0;}#sk-container-id-1 div.sk-toggleable {background-color: white;}#sk-container-id-1 label.sk-toggleable__label {cursor: pointer;display: block;width: 100%;margin-bottom: 0;padding: 0.3em;box-sizing: border-box;text-align: center;}#sk-container-id-1 label.sk-toggleable__label-arrow:before {content: \"▸\";float: left;margin-right: 0.25em;color: #696969;}#sk-container-id-1 label.sk-toggleable__label-arrow:hover:before {color: black;}#sk-container-id-1 div.sk-estimator:hover label.sk-toggleable__label-arrow:before {color: black;}#sk-container-id-1 div.sk-toggleable__content {max-height: 0;max-width: 0;overflow: hidden;text-align: left;background-color: #f0f8ff;}#sk-container-id-1 div.sk-toggleable__content pre {margin: 0.2em;color: black;border-radius: 0.25em;background-color: #f0f8ff;}#sk-container-id-1 input.sk-toggleable__control:checked~div.sk-toggleable__content {max-height: 200px;max-width: 100%;overflow: auto;}#sk-container-id-1 input.sk-toggleable__control:checked~label.sk-toggleable__label-arrow:before {content: \"▾\";}#sk-container-id-1 div.sk-estimator input.sk-toggleable__control:checked~label.sk-toggleable__label {background-color: #d4ebff;}#sk-container-id-1 div.sk-label input.sk-toggleable__control:checked~label.sk-toggleable__label {background-color: #d4ebff;}#sk-container-id-1 input.sk-hidden--visually {border: 0;clip: rect(1px 1px 1px 1px);clip: rect(1px, 1px, 1px, 1px);height: 1px;margin: -1px;overflow: hidden;padding: 0;position: absolute;width: 1px;}#sk-container-id-1 div.sk-estimator {font-family: monospace;background-color: #f0f8ff;border: 1px dotted black;border-radius: 0.25em;box-sizing: border-box;margin-bottom: 0.5em;}#sk-container-id-1 div.sk-estimator:hover {background-color: #d4ebff;}#sk-container-id-1 div.sk-parallel-item::after {content: \"\";width: 100%;border-bottom: 1px solid gray;flex-grow: 1;}#sk-container-id-1 div.sk-label:hover label.sk-toggleable__label {background-color: #d4ebff;}#sk-container-id-1 div.sk-serial::before {content: \"\";position: absolute;border-left: 1px solid gray;box-sizing: border-box;top: 0;bottom: 0;left: 50%;z-index: 0;}#sk-container-id-1 div.sk-serial {display: flex;flex-direction: column;align-items: center;background-color: white;padding-right: 0.2em;padding-left: 0.2em;position: relative;}#sk-container-id-1 div.sk-item {position: relative;z-index: 1;}#sk-container-id-1 div.sk-parallel {display: flex;align-items: stretch;justify-content: center;background-color: white;position: relative;}#sk-container-id-1 div.sk-item::before, #sk-container-id-1 div.sk-parallel-item::before {content: \"\";position: absolute;border-left: 1px solid gray;box-sizing: border-box;top: 0;bottom: 0;left: 50%;z-index: -1;}#sk-container-id-1 div.sk-parallel-item {display: flex;flex-direction: column;z-index: 1;position: relative;background-color: white;}#sk-container-id-1 div.sk-parallel-item:first-child::after {align-self: flex-end;width: 50%;}#sk-container-id-1 div.sk-parallel-item:last-child::after {align-self: flex-start;width: 50%;}#sk-container-id-1 div.sk-parallel-item:only-child::after {width: 0;}#sk-container-id-1 div.sk-dashed-wrapped {border: 1px dashed gray;margin: 0 0.4em 0.5em 0.4em;box-sizing: border-box;padding-bottom: 0.4em;background-color: white;}#sk-container-id-1 div.sk-label label {font-family: monospace;font-weight: bold;display: inline-block;line-height: 1.2em;}#sk-container-id-1 div.sk-label-container {text-align: center;}#sk-container-id-1 div.sk-container {/* jupyter's `normalize.less` sets `[hidden] { display: none; }` but bootstrap.min.css set `[hidden] { display: none !important; }` so we also need the `!important` here to be able to override the default hidden behavior on the sphinx rendered scikit-learn.org. See: https://github.com/scikit-learn/scikit-learn/issues/21755 */display: inline-block !important;position: relative;}#sk-container-id-1 div.sk-text-repr-fallback {display: none;}</style><div id=\"sk-container-id-1\" class=\"sk-top-container\"><div class=\"sk-text-repr-fallback\"><pre>KMeans(n_clusters=3, random_state=2)</pre><b>In a Jupyter environment, please rerun this cell to show the HTML representation or trust the notebook. <br />On GitHub, the HTML representation is unable to render, please try loading this page with nbviewer.org.</b></div><div class=\"sk-container\" hidden><div class=\"sk-item\"><div class=\"sk-estimator sk-toggleable\"><input class=\"sk-toggleable__control sk-hidden--visually\" id=\"sk-estimator-id-1\" type=\"checkbox\" checked><label for=\"sk-estimator-id-1\" class=\"sk-toggleable__label sk-toggleable__label-arrow\">KMeans</label><div class=\"sk-toggleable__content\"><pre>KMeans(n_clusters=3, random_state=2)</pre></div></div></div></div></div>"
            ]
          },
          "metadata": {},
          "execution_count": 23
        }
      ]
    },
    {
      "cell_type": "code",
      "source": [
        "#Find the cluster center\n",
        "kmeans.cluster_centers_"
      ],
      "metadata": {
        "id": "2LpwBRyE4LFd",
        "colab": {
          "base_uri": "https://localhost:8080/"
        },
        "collapsed": true,
        "outputId": "b9f79e61-55f1-4ed0-cda4-b8328cd3884c"
      },
      "id": "2LpwBRyE4LFd",
      "execution_count": 24,
      "outputs": [
        {
          "output_type": "execute_result",
          "data": {
            "text/plain": [
              "array([[ 4.85770081e+05,  1.76682745e+05, -7.60146058e-01,\n",
              "         5.14745747e+01,  3.25814557e+01,  2.84281677e+00,\n",
              "         1.84537539e+00,  1.31325899e+00,  7.33762631e+05,\n",
              "         4.12605973e+00,  3.70353930e+02,  1.10846979e+02,\n",
              "         4.00557550e+00,  8.28640648e+02,  2.45871840e+00,\n",
              "         3.89807531e+01,  2.67333690e+00,  3.38866799e+02,\n",
              "         1.99354617e+00,  2.24536012e+00,  3.36324754e+00,\n",
              "         1.67035821e+00,  1.33136027e+00,  1.34957611e+00,\n",
              "         8.14595585e-01,  2.00946250e+03],\n",
              "       [ 4.06320335e+05,  3.73588457e+05, -1.90516757e+00,\n",
              "         5.32561467e+01,  1.82369203e+01,  2.83595013e+00,\n",
              "         1.84930364e+00,  1.41359345e+00,  7.33711815e+05,\n",
              "         4.12618017e+00,  2.41993010e+02,  8.75146836e+01,\n",
              "         4.15726879e+00,  1.24997825e+03,  2.47457097e+00,\n",
              "         3.87329821e+01,  2.80507016e+00,  4.39202598e+02,\n",
              "         1.99295811e+00,  2.22612279e+00,  3.38438266e+00,\n",
              "         1.79562881e+00,  1.58682385e+00,  1.35188566e+00,\n",
              "         8.05226644e-01,  2.00932341e+03],\n",
              "       [ 3.35560351e+05,  6.47231360e+05, -3.03720208e+00,\n",
              "         5.57086900e+01,  6.46854947e+01,  2.81114313e+00,\n",
              "         1.72468780e+00,  1.34428434e+00,  7.33742746e+05,\n",
              "         4.14908742e+00,  6.45834966e+02,  1.35970989e+02,\n",
              "         4.17425552e+00,  9.20893372e+02,  2.47684918e+00,\n",
              "         4.14783862e+01,  2.19519693e+00,  4.03098175e+02,\n",
              "         1.97483189e+00,  2.22824207e+00,  3.34870317e+00,\n",
              "         1.84975985e+00,  1.87319885e+00,  1.44073007e+00,\n",
              "         8.10951009e-01,  2.00940672e+03]])"
            ]
          },
          "metadata": {},
          "execution_count": 24
        }
      ]
    },
    {
      "cell_type": "code",
      "source": [
        "#Predict the cluster group:\n",
        "pred = kmeans.fit_predict(X)\n",
        "pred"
      ],
      "metadata": {
        "id": "kmOjFa_A4V1e",
        "colab": {
          "base_uri": "https://localhost:8080/"
        },
        "outputId": "f8d28a47-db89-4dd0-c746-9bd4712b234a"
      },
      "id": "kmOjFa_A4V1e",
      "execution_count": 25,
      "outputs": [
        {
          "output_type": "stream",
          "name": "stderr",
          "text": [
            "/usr/local/lib/python3.10/dist-packages/sklearn/cluster/_kmeans.py:1416: FutureWarning: The default value of `n_init` will change from 10 to 'auto' in 1.4. Set the value of `n_init` explicitly to suppress the warning\n",
            "  super()._check_params_vs_input(X, default_n_init=10)\n"
          ]
        },
        {
          "output_type": "execute_result",
          "data": {
            "text/plain": [
              "array([0, 0, 0, ..., 0, 1, 0], dtype=int32)"
            ]
          },
          "metadata": {},
          "execution_count": 25
        }
      ]
    },
    {
      "cell_type": "code",
      "execution_count": 26,
      "id": "10cc0ed5",
      "metadata": {
        "id": "10cc0ed5",
        "colab": {
          "base_uri": "https://localhost:8080/",
          "height": 472
        },
        "outputId": "e41f264c-f6df-4ae4-dd97-34d863f9fbba"
      },
      "outputs": [
        {
          "output_type": "display_data",
          "data": {
            "text/plain": [
              "<Figure size 640x480 with 1 Axes>"
            ],
            "image/png": "[encoded data removed]"
          },
          "metadata": {}
        }
      ],
      "source": [
        "sns.set_style(\"whitegrid\")\n",
        "g=sns.lineplot(x=range(1,11), y=sse)\n",
        "\n",
        "g.set(xlabel =\"Number of cluster (k)\",\n",
        "      ylabel = \"Sum Squared Error\",\n",
        "      title ='Elbow Method')\n",
        "\n",
        "plt.show()"
      ]
    },
    {
      "cell_type": "markdown",
      "id": "70fb3a2a",
      "metadata": {
        "id": "70fb3a2a"
      },
      "source": [
        "## Evaluation\n",
        "Evaluate the clustering result using appropriate metrics.\n"
      ]
    },
    {
      "cell_type": "code",
      "execution_count": 30,
      "id": "70c261ca",
      "metadata": {
        "id": "70c261ca"
      },
      "outputs": [],
      "source": [
        "#"
      ]
    },
    {
      "cell_type": "markdown",
      "id": "061e005c",
      "metadata": {
        "id": "061e005c"
      },
      "source": [
        "## Plot the data points with their predicted cluster center"
      ]
    },
    {
      "cell_type": "code",
      "source": [
        "\n",
        "plt.figure(figsize=(12,5))\n",
        "plt.subplot(1,2,1)\n",
        "# Convert the DataFrame columns to NumPy arrays for plotting\n",
        "plt.scatter(X.iloc[:,0].values, X.iloc[:,1].values, c=pred, cmap=cm.Accent)\n",
        "plt.grid(True)\n",
        "for center in kmeans.cluster_centers_:\n",
        "    center = center[:2]\n",
        "    plt.scatter(center[0],center[1],marker = '^',c = 'red')\n",
        "plt.xlabel(\"petal length (cm)\")\n",
        "plt.ylabel(\"petal width (cm)\")\n",
        "\n",
        "plt.subplot(1,2,2)\n",
        "# Convert the DataFrame columns to NumPy arrays for plotting\n",
        "plt.scatter(X.iloc[:,2].values, X.iloc[:,3].values, c=pred, cmap=cm.Accent)\n",
        "plt.grid(True)\n",
        "for center in kmeans.cluster_centers_:\n",
        "    center = center[2:4]\n",
        "    plt.scatter(center[0],center[1],marker = '^',c = 'red')\n",
        "plt.xlabel(\"sepal length (cm)\")\n",
        "plt.ylabel(\"sepal width (cm)\")\n",
        "plt.show()"
      ],
      "metadata": {
        "colab": {
          "base_uri": "https://localhost:8080/",
          "height": 480
        },
        "id": "Z2i63IblA6Xk",
        "outputId": "2714093a-5564-431d-b423-26d80fe7e710"
      },
      "id": "Z2i63IblA6Xk",
      "execution_count": 29,
      "outputs": [
        {
          "output_type": "display_data",
          "data": {
            "text/plain": [
              "<Figure size 1200x500 with 2 Axes>"
            ],
            "image/png": "[encoded data removed]"
          },
          "metadata": {}
        }
      ]
    },
    {
      "cell_type": "markdown",
      "id": "5cdf3716",
      "metadata": {
        "id": "5cdf3716"
      },
      "source": [
        "## Exam Questions\n",
        "* **Justify Your Feature Selection:**\n",
        "   - Which features did you choose for clustering and why?\n",
        "* **Number of Clusters Choices:**\n",
        "   - How did you determine the optimal number?\n",
        "* **Evaluation:**\n",
        "   - Which metrics did you use to evaluate the clustering results, and why?\n",
        "   - How do these metrics help in understanding the effectiveness of your clustering approach?\n",
        "* **Improvements and Recommendations:**\n",
        "   - Suggest any improvements or future work that could be done with this dataset. What other methods or algorithms would you consider applying?"
      ]
    },
    {
      "cell_type": "code",
      "source": [
        "#in Clustering The algorithm initializes cluster centroids and iteratively assigns data points to the nearest centroid, updating centroids based on the mean of points in each cluster.So in Accident_Severity feature there is number of attributes that highly affect the level of accident which are Weather_Conditions ,Road_Surface_Conditions,Speed_limit."
      ],
      "metadata": {
        "id": "1YTzx7lx4zJX"
      },
      "id": "1YTzx7lx4zJX",
      "execution_count": 31,
      "outputs": []
    }
  ],
  "metadata": {
    "language_info": {
      "name": "python"
    },
    "colab": {
      "provenance": [],
      "include_colab_link": true
    },
    "kernelspec": {
      "name": "python3",
      "display_name": "Python 3"
    }
  },
  "nbformat": 4,
  "nbformat_minor": 5
}